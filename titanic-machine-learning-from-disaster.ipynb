{
 "cells": [
  {
   "cell_type": "markdown",
   "id": "4834bc1f",
   "metadata": {
    "papermill": {
     "duration": 0.010377,
     "end_time": "2025-04-29T12:41:59.752567",
     "exception": false,
     "start_time": "2025-04-29T12:41:59.742190",
     "status": "completed"
    },
    "tags": []
   },
   "source": [
    "# Titanic - Machine Learning from Disaster\n",
    "## Problem Statement\n",
    "Predict whether a passenger survived the Titanic shipwreck based on features like age, gender, class, and more."
   ]
  },
  {
   "cell_type": "markdown",
   "id": "8e43936f",
   "metadata": {
    "papermill": {
     "duration": 0.008824,
     "end_time": "2025-04-29T12:41:59.770753",
     "exception": false,
     "start_time": "2025-04-29T12:41:59.761929",
     "status": "completed"
    },
    "tags": []
   },
   "source": [
    "# Import Libraries and Set Up"
   ]
  },
  {
   "cell_type": "code",
   "execution_count": 1,
   "id": "70ea7b6a",
   "metadata": {
    "execution": {
     "iopub.execute_input": "2025-04-29T12:41:59.790720Z",
     "iopub.status.busy": "2025-04-29T12:41:59.789849Z",
     "iopub.status.idle": "2025-04-29T12:42:03.382146Z",
     "shell.execute_reply": "2025-04-29T12:42:03.381465Z"
    },
    "papermill": {
     "duration": 3.603902,
     "end_time": "2025-04-29T12:42:03.383698",
     "exception": false,
     "start_time": "2025-04-29T12:41:59.779796",
     "status": "completed"
    },
    "tags": []
   },
   "outputs": [],
   "source": [
    "# Import essential libraries for data handling, visualization, and modeling\n",
    "import numpy as np\n",
    "import pandas as pd\n",
    "import seaborn as sns\n",
    "import matplotlib.pyplot as plt\n",
    "import os"
   ]
  },
  {
   "cell_type": "code",
   "execution_count": 2,
   "id": "b3c0c567",
   "metadata": {
    "execution": {
     "iopub.execute_input": "2025-04-29T12:42:03.403372Z",
     "iopub.status.busy": "2025-04-29T12:42:03.402866Z",
     "iopub.status.idle": "2025-04-29T12:42:03.425750Z",
     "shell.execute_reply": "2025-04-29T12:42:03.424794Z"
    },
    "papermill": {
     "duration": 0.034289,
     "end_time": "2025-04-29T12:42:03.427165",
     "exception": false,
     "start_time": "2025-04-29T12:42:03.392876",
     "status": "completed"
    },
    "tags": []
   },
   "outputs": [
    {
     "name": "stdout",
     "output_type": "stream",
     "text": [
      "/kaggle/input/titanic-machine-learning-from-disaster-dataset/train.csv\n",
      "/kaggle/input/titanic-machine-learning-from-disaster-dataset/test.csv\n",
      "/kaggle/input/titanic-machine-learning-from-disaster-dataset/gender_submission.csv\n"
     ]
    }
   ],
   "source": [
    "# List all files in Kaggle input directory\n",
    "for dirname, _, filenames in os.walk('/kaggle/input'):\n",
    "    for filename in filenames:\n",
    "        print(os.path.join(dirname, filename))"
   ]
  },
  {
   "cell_type": "markdown",
   "id": "ce57f535",
   "metadata": {
    "papermill": {
     "duration": 0.009149,
     "end_time": "2025-04-29T12:42:03.445640",
     "exception": false,
     "start_time": "2025-04-29T12:42:03.436491",
     "status": "completed"
    },
    "tags": []
   },
   "source": [
    "# Load and Prepare Data"
   ]
  },
  {
   "cell_type": "code",
   "execution_count": 3,
   "id": "3a68eca5",
   "metadata": {
    "execution": {
     "iopub.execute_input": "2025-04-29T12:42:03.464889Z",
     "iopub.status.busy": "2025-04-29T12:42:03.464605Z",
     "iopub.status.idle": "2025-04-29T12:42:03.506271Z",
     "shell.execute_reply": "2025-04-29T12:42:03.505447Z"
    },
    "papermill": {
     "duration": 0.053261,
     "end_time": "2025-04-29T12:42:03.507918",
     "exception": false,
     "start_time": "2025-04-29T12:42:03.454657",
     "status": "completed"
    },
    "tags": []
   },
   "outputs": [],
   "source": [
    "# Load training and test datasets\n",
    "train = pd.read_csv('/kaggle/input/titanic-machine-learning-from-disaster-dataset/train.csv')\n",
    "test = pd.read_csv('/kaggle/input/titanic-machine-learning-from-disaster-dataset/test.csv')\n",
    "\n",
    "# Tagging train and test for later separation after feature engineering\n",
    "train['train_test'] = 1\n",
    "test['train_test'] = 0\n",
    "test['Survived'] = np.nan\n",
    "\n",
    "# Combine datasets for unified preprocessing\n",
    "all_data = pd.concat([train, test])"
   ]
  },
  {
   "cell_type": "markdown",
   "id": "5d26d479",
   "metadata": {
    "papermill": {
     "duration": 0.008921,
     "end_time": "2025-04-29T12:42:03.526493",
     "exception": false,
     "start_time": "2025-04-29T12:42:03.517572",
     "status": "completed"
    },
    "tags": []
   },
   "source": [
    "# EDA (Exploratory Data Analysis)"
   ]
  },
  {
   "cell_type": "code",
   "execution_count": 4,
   "id": "da3edb95",
   "metadata": {
    "execution": {
     "iopub.execute_input": "2025-04-29T12:42:03.546097Z",
     "iopub.status.busy": "2025-04-29T12:42:03.545558Z",
     "iopub.status.idle": "2025-04-29T12:42:03.564253Z",
     "shell.execute_reply": "2025-04-29T12:42:03.563487Z"
    },
    "papermill": {
     "duration": 0.030267,
     "end_time": "2025-04-29T12:42:03.565780",
     "exception": false,
     "start_time": "2025-04-29T12:42:03.535513",
     "status": "completed"
    },
    "tags": []
   },
   "outputs": [
    {
     "name": "stdout",
     "output_type": "stream",
     "text": [
      "<class 'pandas.core.frame.DataFrame'>\n",
      "RangeIndex: 891 entries, 0 to 890\n",
      "Data columns (total 13 columns):\n",
      " #   Column       Non-Null Count  Dtype  \n",
      "---  ------       --------------  -----  \n",
      " 0   PassengerId  891 non-null    int64  \n",
      " 1   Survived     891 non-null    int64  \n",
      " 2   Pclass       891 non-null    int64  \n",
      " 3   Name         891 non-null    object \n",
      " 4   Sex          891 non-null    object \n",
      " 5   Age          714 non-null    float64\n",
      " 6   SibSp        891 non-null    int64  \n",
      " 7   Parch        891 non-null    int64  \n",
      " 8   Ticket       891 non-null    object \n",
      " 9   Fare         891 non-null    float64\n",
      " 10  Cabin        204 non-null    object \n",
      " 11  Embarked     889 non-null    object \n",
      " 12  train_test   891 non-null    int64  \n",
      "dtypes: float64(2), int64(6), object(5)\n",
      "memory usage: 90.6+ KB\n"
     ]
    }
   ],
   "source": [
    "# Look at the data types & null counts \n",
    "train.info()"
   ]
  },
  {
   "cell_type": "code",
   "execution_count": 5,
   "id": "44187e9e",
   "metadata": {
    "execution": {
     "iopub.execute_input": "2025-04-29T12:42:03.586250Z",
     "iopub.status.busy": "2025-04-29T12:42:03.585593Z",
     "iopub.status.idle": "2025-04-29T12:42:03.624532Z",
     "shell.execute_reply": "2025-04-29T12:42:03.623690Z"
    },
    "papermill": {
     "duration": 0.050771,
     "end_time": "2025-04-29T12:42:03.625986",
     "exception": false,
     "start_time": "2025-04-29T12:42:03.575215",
     "status": "completed"
    },
    "tags": []
   },
   "outputs": [
    {
     "data": {
      "text/html": [
       "<div>\n",
       "<style scoped>\n",
       "    .dataframe tbody tr th:only-of-type {\n",
       "        vertical-align: middle;\n",
       "    }\n",
       "\n",
       "    .dataframe tbody tr th {\n",
       "        vertical-align: top;\n",
       "    }\n",
       "\n",
       "    .dataframe thead th {\n",
       "        text-align: right;\n",
       "    }\n",
       "</style>\n",
       "<table border=\"1\" class=\"dataframe\">\n",
       "  <thead>\n",
       "    <tr style=\"text-align: right;\">\n",
       "      <th></th>\n",
       "      <th>PassengerId</th>\n",
       "      <th>Survived</th>\n",
       "      <th>Pclass</th>\n",
       "      <th>Age</th>\n",
       "      <th>SibSp</th>\n",
       "      <th>Parch</th>\n",
       "      <th>Fare</th>\n",
       "      <th>train_test</th>\n",
       "    </tr>\n",
       "  </thead>\n",
       "  <tbody>\n",
       "    <tr>\n",
       "      <th>count</th>\n",
       "      <td>891.000000</td>\n",
       "      <td>891.000000</td>\n",
       "      <td>891.000000</td>\n",
       "      <td>714.000000</td>\n",
       "      <td>891.000000</td>\n",
       "      <td>891.000000</td>\n",
       "      <td>891.000000</td>\n",
       "      <td>891.0</td>\n",
       "    </tr>\n",
       "    <tr>\n",
       "      <th>mean</th>\n",
       "      <td>446.000000</td>\n",
       "      <td>0.383838</td>\n",
       "      <td>2.308642</td>\n",
       "      <td>29.699118</td>\n",
       "      <td>0.523008</td>\n",
       "      <td>0.381594</td>\n",
       "      <td>32.204208</td>\n",
       "      <td>1.0</td>\n",
       "    </tr>\n",
       "    <tr>\n",
       "      <th>std</th>\n",
       "      <td>257.353842</td>\n",
       "      <td>0.486592</td>\n",
       "      <td>0.836071</td>\n",
       "      <td>14.526497</td>\n",
       "      <td>1.102743</td>\n",
       "      <td>0.806057</td>\n",
       "      <td>49.693429</td>\n",
       "      <td>0.0</td>\n",
       "    </tr>\n",
       "    <tr>\n",
       "      <th>min</th>\n",
       "      <td>1.000000</td>\n",
       "      <td>0.000000</td>\n",
       "      <td>1.000000</td>\n",
       "      <td>0.420000</td>\n",
       "      <td>0.000000</td>\n",
       "      <td>0.000000</td>\n",
       "      <td>0.000000</td>\n",
       "      <td>1.0</td>\n",
       "    </tr>\n",
       "    <tr>\n",
       "      <th>25%</th>\n",
       "      <td>223.500000</td>\n",
       "      <td>0.000000</td>\n",
       "      <td>2.000000</td>\n",
       "      <td>20.125000</td>\n",
       "      <td>0.000000</td>\n",
       "      <td>0.000000</td>\n",
       "      <td>7.910400</td>\n",
       "      <td>1.0</td>\n",
       "    </tr>\n",
       "    <tr>\n",
       "      <th>50%</th>\n",
       "      <td>446.000000</td>\n",
       "      <td>0.000000</td>\n",
       "      <td>3.000000</td>\n",
       "      <td>28.000000</td>\n",
       "      <td>0.000000</td>\n",
       "      <td>0.000000</td>\n",
       "      <td>14.454200</td>\n",
       "      <td>1.0</td>\n",
       "    </tr>\n",
       "    <tr>\n",
       "      <th>75%</th>\n",
       "      <td>668.500000</td>\n",
       "      <td>1.000000</td>\n",
       "      <td>3.000000</td>\n",
       "      <td>38.000000</td>\n",
       "      <td>1.000000</td>\n",
       "      <td>0.000000</td>\n",
       "      <td>31.000000</td>\n",
       "      <td>1.0</td>\n",
       "    </tr>\n",
       "    <tr>\n",
       "      <th>max</th>\n",
       "      <td>891.000000</td>\n",
       "      <td>1.000000</td>\n",
       "      <td>3.000000</td>\n",
       "      <td>80.000000</td>\n",
       "      <td>8.000000</td>\n",
       "      <td>6.000000</td>\n",
       "      <td>512.329200</td>\n",
       "      <td>1.0</td>\n",
       "    </tr>\n",
       "  </tbody>\n",
       "</table>\n",
       "</div>"
      ],
      "text/plain": [
       "       PassengerId    Survived      Pclass         Age       SibSp  \\\n",
       "count   891.000000  891.000000  891.000000  714.000000  891.000000   \n",
       "mean    446.000000    0.383838    2.308642   29.699118    0.523008   \n",
       "std     257.353842    0.486592    0.836071   14.526497    1.102743   \n",
       "min       1.000000    0.000000    1.000000    0.420000    0.000000   \n",
       "25%     223.500000    0.000000    2.000000   20.125000    0.000000   \n",
       "50%     446.000000    0.000000    3.000000   28.000000    0.000000   \n",
       "75%     668.500000    1.000000    3.000000   38.000000    1.000000   \n",
       "max     891.000000    1.000000    3.000000   80.000000    8.000000   \n",
       "\n",
       "            Parch        Fare  train_test  \n",
       "count  891.000000  891.000000       891.0  \n",
       "mean     0.381594   32.204208         1.0  \n",
       "std      0.806057   49.693429         0.0  \n",
       "min      0.000000    0.000000         1.0  \n",
       "25%      0.000000    7.910400         1.0  \n",
       "50%      0.000000   14.454200         1.0  \n",
       "75%      0.000000   31.000000         1.0  \n",
       "max      6.000000  512.329200         1.0  "
      ]
     },
     "execution_count": 5,
     "metadata": {},
     "output_type": "execute_result"
    }
   ],
   "source": [
    "# To better understand the numeric data, we want to use the .describe() method. \n",
    "# This gives us an understanding of the central tendencies of the data \n",
    "train.describe()"
   ]
  },
  {
   "cell_type": "code",
   "execution_count": 6,
   "id": "5c4c3c77",
   "metadata": {
    "execution": {
     "iopub.execute_input": "2025-04-29T12:42:03.647506Z",
     "iopub.status.busy": "2025-04-29T12:42:03.646844Z",
     "iopub.status.idle": "2025-04-29T12:42:03.659100Z",
     "shell.execute_reply": "2025-04-29T12:42:03.658348Z"
    },
    "papermill": {
     "duration": 0.024582,
     "end_time": "2025-04-29T12:42:03.660319",
     "exception": false,
     "start_time": "2025-04-29T12:42:03.635737",
     "status": "completed"
    },
    "tags": []
   },
   "outputs": [
    {
     "data": {
      "text/html": [
       "<div>\n",
       "<style scoped>\n",
       "    .dataframe tbody tr th:only-of-type {\n",
       "        vertical-align: middle;\n",
       "    }\n",
       "\n",
       "    .dataframe tbody tr th {\n",
       "        vertical-align: top;\n",
       "    }\n",
       "\n",
       "    .dataframe thead th {\n",
       "        text-align: right;\n",
       "    }\n",
       "</style>\n",
       "<table border=\"1\" class=\"dataframe\">\n",
       "  <thead>\n",
       "    <tr style=\"text-align: right;\">\n",
       "      <th></th>\n",
       "      <th>PassengerId</th>\n",
       "      <th>Survived</th>\n",
       "      <th>Pclass</th>\n",
       "      <th>Name</th>\n",
       "      <th>Sex</th>\n",
       "      <th>Age</th>\n",
       "      <th>SibSp</th>\n",
       "      <th>Parch</th>\n",
       "      <th>Ticket</th>\n",
       "      <th>Fare</th>\n",
       "      <th>Cabin</th>\n",
       "      <th>Embarked</th>\n",
       "      <th>train_test</th>\n",
       "    </tr>\n",
       "  </thead>\n",
       "  <tbody>\n",
       "    <tr>\n",
       "      <th>0</th>\n",
       "      <td>1</td>\n",
       "      <td>0</td>\n",
       "      <td>3</td>\n",
       "      <td>Braund, Mr. Owen Harris</td>\n",
       "      <td>male</td>\n",
       "      <td>22.0</td>\n",
       "      <td>1</td>\n",
       "      <td>0</td>\n",
       "      <td>A/5 21171</td>\n",
       "      <td>7.2500</td>\n",
       "      <td>NaN</td>\n",
       "      <td>S</td>\n",
       "      <td>1</td>\n",
       "    </tr>\n",
       "    <tr>\n",
       "      <th>1</th>\n",
       "      <td>2</td>\n",
       "      <td>1</td>\n",
       "      <td>1</td>\n",
       "      <td>Cumings, Mrs. John Bradley (Florence Briggs Th...</td>\n",
       "      <td>female</td>\n",
       "      <td>38.0</td>\n",
       "      <td>1</td>\n",
       "      <td>0</td>\n",
       "      <td>PC 17599</td>\n",
       "      <td>71.2833</td>\n",
       "      <td>C85</td>\n",
       "      <td>C</td>\n",
       "      <td>1</td>\n",
       "    </tr>\n",
       "    <tr>\n",
       "      <th>2</th>\n",
       "      <td>3</td>\n",
       "      <td>1</td>\n",
       "      <td>3</td>\n",
       "      <td>Heikkinen, Miss. Laina</td>\n",
       "      <td>female</td>\n",
       "      <td>26.0</td>\n",
       "      <td>0</td>\n",
       "      <td>0</td>\n",
       "      <td>STON/O2. 3101282</td>\n",
       "      <td>7.9250</td>\n",
       "      <td>NaN</td>\n",
       "      <td>S</td>\n",
       "      <td>1</td>\n",
       "    </tr>\n",
       "    <tr>\n",
       "      <th>3</th>\n",
       "      <td>4</td>\n",
       "      <td>1</td>\n",
       "      <td>1</td>\n",
       "      <td>Futrelle, Mrs. Jacques Heath (Lily May Peel)</td>\n",
       "      <td>female</td>\n",
       "      <td>35.0</td>\n",
       "      <td>1</td>\n",
       "      <td>0</td>\n",
       "      <td>113803</td>\n",
       "      <td>53.1000</td>\n",
       "      <td>C123</td>\n",
       "      <td>S</td>\n",
       "      <td>1</td>\n",
       "    </tr>\n",
       "    <tr>\n",
       "      <th>4</th>\n",
       "      <td>5</td>\n",
       "      <td>0</td>\n",
       "      <td>3</td>\n",
       "      <td>Allen, Mr. William Henry</td>\n",
       "      <td>male</td>\n",
       "      <td>35.0</td>\n",
       "      <td>0</td>\n",
       "      <td>0</td>\n",
       "      <td>373450</td>\n",
       "      <td>8.0500</td>\n",
       "      <td>NaN</td>\n",
       "      <td>S</td>\n",
       "      <td>1</td>\n",
       "    </tr>\n",
       "  </tbody>\n",
       "</table>\n",
       "</div>"
      ],
      "text/plain": [
       "   PassengerId  Survived  Pclass  \\\n",
       "0            1         0       3   \n",
       "1            2         1       1   \n",
       "2            3         1       3   \n",
       "3            4         1       1   \n",
       "4            5         0       3   \n",
       "\n",
       "                                                Name     Sex   Age  SibSp  \\\n",
       "0                            Braund, Mr. Owen Harris    male  22.0      1   \n",
       "1  Cumings, Mrs. John Bradley (Florence Briggs Th...  female  38.0      1   \n",
       "2                             Heikkinen, Miss. Laina  female  26.0      0   \n",
       "3       Futrelle, Mrs. Jacques Heath (Lily May Peel)  female  35.0      1   \n",
       "4                           Allen, Mr. William Henry    male  35.0      0   \n",
       "\n",
       "   Parch            Ticket     Fare Cabin Embarked  train_test  \n",
       "0      0         A/5 21171   7.2500   NaN        S           1  \n",
       "1      0          PC 17599  71.2833   C85        C           1  \n",
       "2      0  STON/O2. 3101282   7.9250   NaN        S           1  \n",
       "3      0            113803  53.1000  C123        S           1  \n",
       "4      0            373450   8.0500   NaN        S           1  "
      ]
     },
     "execution_count": 6,
     "metadata": {},
     "output_type": "execute_result"
    }
   ],
   "source": [
    "train.head()"
   ]
  },
  {
   "cell_type": "code",
   "execution_count": 7,
   "id": "ad293c3b",
   "metadata": {
    "execution": {
     "iopub.execute_input": "2025-04-29T12:42:03.681044Z",
     "iopub.status.busy": "2025-04-29T12:42:03.680759Z",
     "iopub.status.idle": "2025-04-29T12:42:03.698700Z",
     "shell.execute_reply": "2025-04-29T12:42:03.697751Z"
    },
    "papermill": {
     "duration": 0.029865,
     "end_time": "2025-04-29T12:42:03.700007",
     "exception": false,
     "start_time": "2025-04-29T12:42:03.670142",
     "status": "completed"
    },
    "tags": []
   },
   "outputs": [
    {
     "data": {
      "text/plain": [
       "Index(['PassengerId', 'Survived', 'Pclass', 'Age', 'SibSp', 'Parch', 'Fare',\n",
       "       'train_test'],\n",
       "      dtype='object')"
      ]
     },
     "execution_count": 7,
     "metadata": {},
     "output_type": "execute_result"
    }
   ],
   "source": [
    "# Quick way to separate numeric columns\n",
    "train.describe().columns"
   ]
  },
  {
   "cell_type": "code",
   "execution_count": 8,
   "id": "a90eaa74",
   "metadata": {
    "execution": {
     "iopub.execute_input": "2025-04-29T12:42:03.721019Z",
     "iopub.status.busy": "2025-04-29T12:42:03.720726Z",
     "iopub.status.idle": "2025-04-29T12:42:03.729976Z",
     "shell.execute_reply": "2025-04-29T12:42:03.729120Z"
    },
    "papermill": {
     "duration": 0.02138,
     "end_time": "2025-04-29T12:42:03.731377",
     "exception": false,
     "start_time": "2025-04-29T12:42:03.709997",
     "status": "completed"
    },
    "tags": []
   },
   "outputs": [],
   "source": [
    "# Separate numeric and categorical features\n",
    "df_num = train[['Age','SibSp','Parch','Fare']]\n",
    "df_cat = train[['Survived','Pclass','Sex','Ticket','Cabin','Embarked']]"
   ]
  },
  {
   "cell_type": "code",
   "execution_count": 9,
   "id": "3479d2bb",
   "metadata": {
    "execution": {
     "iopub.execute_input": "2025-04-29T12:42:03.752897Z",
     "iopub.status.busy": "2025-04-29T12:42:03.752105Z",
     "iopub.status.idle": "2025-04-29T12:42:04.598136Z",
     "shell.execute_reply": "2025-04-29T12:42:04.597221Z"
    },
    "papermill": {
     "duration": 0.858159,
     "end_time": "2025-04-29T12:42:04.599658",
     "exception": false,
     "start_time": "2025-04-29T12:42:03.741499",
     "status": "completed"
    },
    "tags": []
   },
   "outputs": [
    {
     "name": "stderr",
     "output_type": "stream",
     "text": [
      "/usr/local/lib/python3.11/dist-packages/numpy/lib/histograms.py:825: RuntimeWarning: invalid value encountered in greater_equal\n",
      "  keep = (tmp_a >= first_edge)\n",
      "/usr/local/lib/python3.11/dist-packages/numpy/lib/histograms.py:826: RuntimeWarning: invalid value encountered in less_equal\n",
      "  keep &= (tmp_a <= last_edge)\n"
     ]
    },
    {
     "data": {
      "image/png": "[encoded data removed]",
      "text/plain": [
       "<Figure size 640x480 with 1 Axes>"
      ]
     },
     "metadata": {},
     "output_type": "display_data"
    },
    {
     "data": {
      "image/png": "[encoded data removed]",
      "text/plain": [
       "<Figure size 640x480 with 1 Axes>"
      ]
     },
     "metadata": {},
     "output_type": "display_data"
    },
    {
     "data": {
      "image/png": "[encoded data removed]",
      "text/plain": [
       "<Figure size 640x480 with 1 Axes>"
      ]
     },
     "metadata": {},
     "output_type": "display_data"
    },
    {
     "data": {
      "image/png": "[encoded data removed]",
      "text/plain": [
       "<Figure size 640x480 with 1 Axes>"
      ]
     },
     "metadata": {},
     "output_type": "display_data"
    }
   ],
   "source": [
    "# Plot distributions for numeric features\n",
    "for col in df_num.columns:\n",
    "    plt.hist(df_num[col], bins=20)\n",
    "    plt.title(col)\n",
    "    plt.show()"
   ]
  },
  {
   "cell_type": "code",
   "execution_count": 10,
   "id": "b77ee7f3",
   "metadata": {
    "execution": {
     "iopub.execute_input": "2025-04-29T12:42:04.625088Z",
     "iopub.status.busy": "2025-04-29T12:42:04.624309Z",
     "iopub.status.idle": "2025-04-29T12:42:04.861558Z",
     "shell.execute_reply": "2025-04-29T12:42:04.860704Z"
    },
    "papermill": {
     "duration": 0.251951,
     "end_time": "2025-04-29T12:42:04.863081",
     "exception": false,
     "start_time": "2025-04-29T12:42:04.611130",
     "status": "completed"
    },
    "tags": []
   },
   "outputs": [
    {
     "name": "stdout",
     "output_type": "stream",
     "text": [
      "            Age     SibSp     Parch      Fare\n",
      "Age    1.000000 -0.308247 -0.189119  0.096067\n",
      "SibSp -0.308247  1.000000  0.414838  0.159651\n",
      "Parch -0.189119  0.414838  1.000000  0.216225\n",
      "Fare   0.096067  0.159651  0.216225  1.000000\n"
     ]
    },
    {
     "data": {
      "text/plain": [
       "<Axes: >"
      ]
     },
     "execution_count": 10,
     "metadata": {},
     "output_type": "execute_result"
    },
    {
     "data": {
      "image/png": "[encoded data removed]",
      "text/plain": [
       "<Figure size 640x480 with 2 Axes>"
      ]
     },
     "metadata": {},
     "output_type": "display_data"
    }
   ],
   "source": [
    "# Correlation matrix\n",
    "print(df_num.corr())\n",
    "sns.heatmap(df_num.corr(), annot=True)"
   ]
  },
  {
   "cell_type": "code",
   "execution_count": 11,
   "id": "4d7e98ae",
   "metadata": {
    "execution": {
     "iopub.execute_input": "2025-04-29T12:42:04.888264Z",
     "iopub.status.busy": "2025-04-29T12:42:04.887953Z",
     "iopub.status.idle": "2025-04-29T12:42:04.904694Z",
     "shell.execute_reply": "2025-04-29T12:42:04.903908Z"
    },
    "papermill": {
     "duration": 0.030653,
     "end_time": "2025-04-29T12:42:04.906001",
     "exception": false,
     "start_time": "2025-04-29T12:42:04.875348",
     "status": "completed"
    },
    "tags": []
   },
   "outputs": [
    {
     "data": {
      "text/html": [
       "<div>\n",
       "<style scoped>\n",
       "    .dataframe tbody tr th:only-of-type {\n",
       "        vertical-align: middle;\n",
       "    }\n",
       "\n",
       "    .dataframe tbody tr th {\n",
       "        vertical-align: top;\n",
       "    }\n",
       "\n",
       "    .dataframe thead th {\n",
       "        text-align: right;\n",
       "    }\n",
       "</style>\n",
       "<table border=\"1\" class=\"dataframe\">\n",
       "  <thead>\n",
       "    <tr style=\"text-align: right;\">\n",
       "      <th></th>\n",
       "      <th>Age</th>\n",
       "      <th>Fare</th>\n",
       "      <th>Parch</th>\n",
       "      <th>SibSp</th>\n",
       "    </tr>\n",
       "    <tr>\n",
       "      <th>Survived</th>\n",
       "      <th></th>\n",
       "      <th></th>\n",
       "      <th></th>\n",
       "      <th></th>\n",
       "    </tr>\n",
       "  </thead>\n",
       "  <tbody>\n",
       "    <tr>\n",
       "      <th>0</th>\n",
       "      <td>30.626179</td>\n",
       "      <td>22.117887</td>\n",
       "      <td>0.329690</td>\n",
       "      <td>0.553734</td>\n",
       "    </tr>\n",
       "    <tr>\n",
       "      <th>1</th>\n",
       "      <td>28.343690</td>\n",
       "      <td>48.395408</td>\n",
       "      <td>0.464912</td>\n",
       "      <td>0.473684</td>\n",
       "    </tr>\n",
       "  </tbody>\n",
       "</table>\n",
       "</div>"
      ],
      "text/plain": [
       "                Age       Fare     Parch     SibSp\n",
       "Survived                                          \n",
       "0         30.626179  22.117887  0.329690  0.553734\n",
       "1         28.343690  48.395408  0.464912  0.473684"
      ]
     },
     "execution_count": 11,
     "metadata": {},
     "output_type": "execute_result"
    }
   ],
   "source": [
    "# Survival rates across numeric features\n",
    "pd.pivot_table(train, index='Survived', values=['Age', 'SibSp', 'Parch', 'Fare'])"
   ]
  },
  {
   "cell_type": "code",
   "execution_count": 12,
   "id": "8d49d7ef",
   "metadata": {
    "execution": {
     "iopub.execute_input": "2025-04-29T12:42:04.930230Z",
     "iopub.status.busy": "2025-04-29T12:42:04.929952Z",
     "iopub.status.idle": "2025-04-29T12:42:11.283009Z",
     "shell.execute_reply": "2025-04-29T12:42:11.282163Z"
    },
    "papermill": {
     "duration": 6.366928,
     "end_time": "2025-04-29T12:42:11.284568",
     "exception": false,
     "start_time": "2025-04-29T12:42:04.917640",
     "status": "completed"
    },
    "tags": []
   },
   "outputs": [
    {
     "data": {
      "image/png": "[encoded data removed]",
      "text/plain": [
       "<Figure size 640x480 with 1 Axes>"
      ]
     },
     "metadata": {},
     "output_type": "display_data"
    },
    {
     "data": {
      "image/png": "[encoded data removed]",
      "text/plain": [
       "<Figure size 640x480 with 1 Axes>"
      ]
     },
     "metadata": {},
     "output_type": "display_data"
    },
    {
     "data": {
      "image/png": "[encoded data removed]",
      "text/plain": [
       "<Figure size 640x480 with 1 Axes>"
      ]
     },
     "metadata": {},
     "output_type": "display_data"
    },
    {
     "data": {
      "image/png": "[encoded data removed]",
      "text/plain": [
       "<Figure size 640x480 with 1 Axes>"
      ]
     },
     "metadata": {},
     "output_type": "display_data"
    },
    {
     "data": {
      "image/png": "[encoded data removed]",
      "text/plain": [
       "<Figure size 640x480 with 1 Axes>"
      ]
     },
     "metadata": {},
     "output_type": "display_data"
    },
    {
     "data": {
      "image/png": "[encoded data removed]",
      "text/plain": [
       "<Figure size 640x480 with 1 Axes>"
      ]
     },
     "metadata": {},
     "output_type": "display_data"
    }
   ],
   "source": [
    "# Barplots for categorical features\n",
    "for col in df_cat.columns:\n",
    "    sns.barplot(x=df_cat[col].value_counts().index, y=df_cat[col].value_counts().values)\n",
    "    plt.title(col)\n",
    "    plt.xticks(rotation=45)\n",
    "    plt.show()\n",
    "    "
   ]
  },
  {
   "cell_type": "code",
   "execution_count": 13,
   "id": "69b2c60e",
   "metadata": {
    "execution": {
     "iopub.execute_input": "2025-04-29T12:42:11.318831Z",
     "iopub.status.busy": "2025-04-29T12:42:11.317953Z",
     "iopub.status.idle": "2025-04-29T12:42:11.351221Z",
     "shell.execute_reply": "2025-04-29T12:42:11.350187Z"
    },
    "papermill": {
     "duration": 0.052072,
     "end_time": "2025-04-29T12:42:11.352677",
     "exception": false,
     "start_time": "2025-04-29T12:42:11.300605",
     "status": "completed"
    },
    "tags": []
   },
   "outputs": [
    {
     "name": "stdout",
     "output_type": "stream",
     "text": [
      "Pclass      1   2    3\n",
      "Survived              \n",
      "0          80  97  372\n",
      "1         136  87  119\n",
      "----------------------------\n",
      "Sex       female  male\n",
      "Survived              \n",
      "0             81   468\n",
      "1            233   109\n",
      "----------------------------\n",
      "Embarked   C   Q    S\n",
      "Survived             \n",
      "0         75  47  427\n",
      "1         93  30  217\n"
     ]
    }
   ],
   "source": [
    "# Survival rates across categorical features\n",
    "print(pd.pivot_table(train, index='Survived', columns='Pclass', values='Ticket', aggfunc='count'))\n",
    "print(\"----------------------------\")\n",
    "print(pd.pivot_table(train, index='Survived', columns='Sex', values='Ticket', aggfunc='count'))\n",
    "print(\"----------------------------\")\n",
    "print(pd.pivot_table(train, index='Survived', columns='Embarked', values='Ticket', aggfunc='count'))\n"
   ]
  },
  {
   "cell_type": "markdown",
   "id": "c1f9b2ed",
   "metadata": {
    "papermill": {
     "duration": 0.01509,
     "end_time": "2025-04-29T12:42:11.445760",
     "exception": false,
     "start_time": "2025-04-29T12:42:11.430670",
     "status": "completed"
    },
    "tags": []
   },
   "source": [
    "# Feature Engineering"
   ]
  },
  {
   "cell_type": "markdown",
   "id": "d005494f",
   "metadata": {
    "papermill": {
     "duration": 0.014838,
     "end_time": "2025-04-29T12:42:11.475959",
     "exception": false,
     "start_time": "2025-04-29T12:42:11.461121",
     "status": "completed"
    },
    "tags": []
   },
   "source": [
    "Feature Engineering¶\n",
    "1) Cabin - Simplify cabins (evaluated if cabin letter (cabin_adv) or the purchase of tickets across multiple cabins (cabin_multiple) impacted survival)\n",
    "2) Tickets - Do different ticket types impact survival rates?\n",
    "3) Does a person's title relate to survival rates?"
   ]
  },
  {
   "cell_type": "code",
   "execution_count": 14,
   "id": "cc3344e4",
   "metadata": {
    "execution": {
     "iopub.execute_input": "2025-04-29T12:42:11.508100Z",
     "iopub.status.busy": "2025-04-29T12:42:11.507552Z",
     "iopub.status.idle": "2025-04-29T12:42:11.516316Z",
     "shell.execute_reply": "2025-04-29T12:42:11.515359Z"
    },
    "papermill": {
     "duration": 0.026782,
     "end_time": "2025-04-29T12:42:11.517981",
     "exception": false,
     "start_time": "2025-04-29T12:42:11.491199",
     "status": "completed"
    },
    "tags": []
   },
   "outputs": [
    {
     "data": {
      "text/plain": [
       "cabin_multiple\n",
       "0    687\n",
       "1    180\n",
       "2     16\n",
       "3      6\n",
       "4      2\n",
       "Name: count, dtype: int64"
      ]
     },
     "execution_count": 14,
     "metadata": {},
     "output_type": "execute_result"
    }
   ],
   "source": [
    "# Cabin: multiple cabins\n",
    "train['cabin_multiple'] = train['Cabin'].apply(lambda x: 0 if pd.isna(x) else len(x.split(' ')))\n",
    "train['cabin_multiple'].value_counts()"
   ]
  },
  {
   "cell_type": "code",
   "execution_count": 15,
   "id": "6cf55b01",
   "metadata": {
    "execution": {
     "iopub.execute_input": "2025-04-29T12:42:11.550912Z",
     "iopub.status.busy": "2025-04-29T12:42:11.550606Z",
     "iopub.status.idle": "2025-04-29T12:42:11.567897Z",
     "shell.execute_reply": "2025-04-29T12:42:11.566959Z"
    },
    "papermill": {
     "duration": 0.035398,
     "end_time": "2025-04-29T12:42:11.569208",
     "exception": false,
     "start_time": "2025-04-29T12:42:11.533810",
     "status": "completed"
    },
    "tags": []
   },
   "outputs": [
    {
     "name": "stderr",
     "output_type": "stream",
     "text": [
      "/usr/local/lib/python3.11/dist-packages/pandas/io/formats/format.py:1458: RuntimeWarning: invalid value encountered in greater\n",
      "  has_large_values = (abs_vals > 1e6).any()\n",
      "/usr/local/lib/python3.11/dist-packages/pandas/io/formats/format.py:1459: RuntimeWarning: invalid value encountered in less\n",
      "  has_small_values = ((abs_vals < 10 ** (-self.digits)) & (abs_vals > 0)).any()\n",
      "/usr/local/lib/python3.11/dist-packages/pandas/io/formats/format.py:1459: RuntimeWarning: invalid value encountered in greater\n",
      "  has_small_values = ((abs_vals < 10 ** (-self.digits)) & (abs_vals > 0)).any()\n"
     ]
    },
    {
     "data": {
      "text/html": [
       "<div>\n",
       "<style scoped>\n",
       "    .dataframe tbody tr th:only-of-type {\n",
       "        vertical-align: middle;\n",
       "    }\n",
       "\n",
       "    .dataframe tbody tr th {\n",
       "        vertical-align: top;\n",
       "    }\n",
       "\n",
       "    .dataframe thead th {\n",
       "        text-align: right;\n",
       "    }\n",
       "</style>\n",
       "<table border=\"1\" class=\"dataframe\">\n",
       "  <thead>\n",
       "    <tr style=\"text-align: right;\">\n",
       "      <th>cabin_multiple</th>\n",
       "      <th>0</th>\n",
       "      <th>1</th>\n",
       "      <th>2</th>\n",
       "      <th>3</th>\n",
       "      <th>4</th>\n",
       "    </tr>\n",
       "    <tr>\n",
       "      <th>Survived</th>\n",
       "      <th></th>\n",
       "      <th></th>\n",
       "      <th></th>\n",
       "      <th></th>\n",
       "      <th></th>\n",
       "    </tr>\n",
       "  </thead>\n",
       "  <tbody>\n",
       "    <tr>\n",
       "      <th>0</th>\n",
       "      <td>481.0</td>\n",
       "      <td>58.0</td>\n",
       "      <td>7.0</td>\n",
       "      <td>3.0</td>\n",
       "      <td>NaN</td>\n",
       "    </tr>\n",
       "    <tr>\n",
       "      <th>1</th>\n",
       "      <td>206.0</td>\n",
       "      <td>122.0</td>\n",
       "      <td>9.0</td>\n",
       "      <td>3.0</td>\n",
       "      <td>2.0</td>\n",
       "    </tr>\n",
       "  </tbody>\n",
       "</table>\n",
       "</div>"
      ],
      "text/plain": [
       "cabin_multiple      0      1    2    3    4\n",
       "Survived                                   \n",
       "0               481.0   58.0  7.0  3.0  NaN\n",
       "1               206.0  122.0  9.0  3.0  2.0"
      ]
     },
     "execution_count": 15,
     "metadata": {},
     "output_type": "execute_result"
    }
   ],
   "source": [
    "# Survival rates by multiple cabins\n",
    "pd.pivot_table(train, index='Survived', columns='cabin_multiple', values='Ticket', aggfunc='count')"
   ]
  },
  {
   "cell_type": "code",
   "execution_count": 16,
   "id": "a26d14d2",
   "metadata": {
    "execution": {
     "iopub.execute_input": "2025-04-29T12:42:11.602500Z",
     "iopub.status.busy": "2025-04-29T12:42:11.601709Z",
     "iopub.status.idle": "2025-04-29T12:42:11.607142Z",
     "shell.execute_reply": "2025-04-29T12:42:11.606283Z"
    },
    "papermill": {
     "duration": 0.02346,
     "end_time": "2025-04-29T12:42:11.608484",
     "exception": false,
     "start_time": "2025-04-29T12:42:11.585024",
     "status": "completed"
    },
    "tags": []
   },
   "outputs": [],
   "source": [
    "# Cabin: first letter\n",
    "train['cabin_adv'] = train['Cabin'].apply(lambda x: str(x)[0])"
   ]
  },
  {
   "cell_type": "code",
   "execution_count": 17,
   "id": "f6caa3f4",
   "metadata": {
    "execution": {
     "iopub.execute_input": "2025-04-29T12:42:11.642315Z",
     "iopub.status.busy": "2025-04-29T12:42:11.641755Z",
     "iopub.status.idle": "2025-04-29T12:42:11.661734Z",
     "shell.execute_reply": "2025-04-29T12:42:11.660909Z"
    },
    "papermill": {
     "duration": 0.0387,
     "end_time": "2025-04-29T12:42:11.662944",
     "exception": false,
     "start_time": "2025-04-29T12:42:11.624244",
     "status": "completed"
    },
    "tags": []
   },
   "outputs": [
    {
     "name": "stdout",
     "output_type": "stream",
     "text": [
      "cabin_adv\n",
      "n    687\n",
      "C     59\n",
      "B     47\n",
      "D     33\n",
      "E     32\n",
      "A     15\n",
      "F     13\n",
      "G      4\n",
      "T      1\n",
      "Name: count, dtype: int64\n"
     ]
    },
    {
     "name": "stderr",
     "output_type": "stream",
     "text": [
      "/usr/local/lib/python3.11/dist-packages/pandas/io/formats/format.py:1458: RuntimeWarning: invalid value encountered in greater\n",
      "  has_large_values = (abs_vals > 1e6).any()\n",
      "/usr/local/lib/python3.11/dist-packages/pandas/io/formats/format.py:1459: RuntimeWarning: invalid value encountered in less\n",
      "  has_small_values = ((abs_vals < 10 ** (-self.digits)) & (abs_vals > 0)).any()\n",
      "/usr/local/lib/python3.11/dist-packages/pandas/io/formats/format.py:1459: RuntimeWarning: invalid value encountered in greater\n",
      "  has_small_values = ((abs_vals < 10 ** (-self.digits)) & (abs_vals > 0)).any()\n"
     ]
    },
    {
     "data": {
      "text/html": [
       "<div>\n",
       "<style scoped>\n",
       "    .dataframe tbody tr th:only-of-type {\n",
       "        vertical-align: middle;\n",
       "    }\n",
       "\n",
       "    .dataframe tbody tr th {\n",
       "        vertical-align: top;\n",
       "    }\n",
       "\n",
       "    .dataframe thead th {\n",
       "        text-align: right;\n",
       "    }\n",
       "</style>\n",
       "<table border=\"1\" class=\"dataframe\">\n",
       "  <thead>\n",
       "    <tr style=\"text-align: right;\">\n",
       "      <th>cabin_adv</th>\n",
       "      <th>A</th>\n",
       "      <th>B</th>\n",
       "      <th>C</th>\n",
       "      <th>D</th>\n",
       "      <th>E</th>\n",
       "      <th>F</th>\n",
       "      <th>G</th>\n",
       "      <th>T</th>\n",
       "      <th>n</th>\n",
       "    </tr>\n",
       "    <tr>\n",
       "      <th>Survived</th>\n",
       "      <th></th>\n",
       "      <th></th>\n",
       "      <th></th>\n",
       "      <th></th>\n",
       "      <th></th>\n",
       "      <th></th>\n",
       "      <th></th>\n",
       "      <th></th>\n",
       "      <th></th>\n",
       "    </tr>\n",
       "  </thead>\n",
       "  <tbody>\n",
       "    <tr>\n",
       "      <th>0</th>\n",
       "      <td>8.0</td>\n",
       "      <td>12.0</td>\n",
       "      <td>24.0</td>\n",
       "      <td>8.0</td>\n",
       "      <td>8.0</td>\n",
       "      <td>5.0</td>\n",
       "      <td>2.0</td>\n",
       "      <td>1.0</td>\n",
       "      <td>481.0</td>\n",
       "    </tr>\n",
       "    <tr>\n",
       "      <th>1</th>\n",
       "      <td>7.0</td>\n",
       "      <td>35.0</td>\n",
       "      <td>35.0</td>\n",
       "      <td>25.0</td>\n",
       "      <td>24.0</td>\n",
       "      <td>8.0</td>\n",
       "      <td>2.0</td>\n",
       "      <td>NaN</td>\n",
       "      <td>206.0</td>\n",
       "    </tr>\n",
       "  </tbody>\n",
       "</table>\n",
       "</div>"
      ],
      "text/plain": [
       "cabin_adv    A     B     C     D     E    F    G    T      n\n",
       "Survived                                                    \n",
       "0          8.0  12.0  24.0   8.0   8.0  5.0  2.0  1.0  481.0\n",
       "1          7.0  35.0  35.0  25.0  24.0  8.0  2.0  NaN  206.0"
      ]
     },
     "execution_count": 17,
     "metadata": {},
     "output_type": "execute_result"
    }
   ],
   "source": [
    "# Comparing survival rate by cabin\n",
    "print(train['cabin_adv'].value_counts())\n",
    "pd.pivot_table(train, index='Survived', columns='cabin_adv', values='Name', aggfunc='count')"
   ]
  },
  {
   "cell_type": "code",
   "execution_count": 18,
   "id": "1ee7b73b",
   "metadata": {
    "execution": {
     "iopub.execute_input": "2025-04-29T12:42:11.695824Z",
     "iopub.status.busy": "2025-04-29T12:42:11.695530Z",
     "iopub.status.idle": "2025-04-29T12:42:11.702908Z",
     "shell.execute_reply": "2025-04-29T12:42:11.702096Z"
    },
    "papermill": {
     "duration": 0.025469,
     "end_time": "2025-04-29T12:42:11.704260",
     "exception": false,
     "start_time": "2025-04-29T12:42:11.678791",
     "status": "completed"
    },
    "tags": []
   },
   "outputs": [],
   "source": [
    "# Ticket: numeric or not, ticket prefixes\n",
    "train['numeric_ticket'] = train['Ticket'].apply(lambda x: 1 if x.isnumeric() else 0)\n",
    "train['ticket_letters'] = train['Ticket'].apply(lambda x: ''.join(x.split(' ')[:-1]).replace('.', '').replace('/', '').lower() if len(x.split(' ')[:-1]) > 0 else 0)"
   ]
  },
  {
   "cell_type": "code",
   "execution_count": 19,
   "id": "787eaad5",
   "metadata": {
    "execution": {
     "iopub.execute_input": "2025-04-29T12:42:11.737805Z",
     "iopub.status.busy": "2025-04-29T12:42:11.737496Z",
     "iopub.status.idle": "2025-04-29T12:42:11.744042Z",
     "shell.execute_reply": "2025-04-29T12:42:11.743218Z"
    },
    "papermill": {
     "duration": 0.024931,
     "end_time": "2025-04-29T12:42:11.745376",
     "exception": false,
     "start_time": "2025-04-29T12:42:11.720445",
     "status": "completed"
    },
    "tags": []
   },
   "outputs": [
    {
     "data": {
      "text/plain": [
       "numeric_ticket\n",
       "1    661\n",
       "0    230\n",
       "Name: count, dtype: int64"
      ]
     },
     "execution_count": 19,
     "metadata": {},
     "output_type": "execute_result"
    }
   ],
   "source": [
    "train['numeric_ticket'].value_counts()"
   ]
  },
  {
   "cell_type": "code",
   "execution_count": 20,
   "id": "a34173df",
   "metadata": {
    "execution": {
     "iopub.execute_input": "2025-04-29T12:42:11.778621Z",
     "iopub.status.busy": "2025-04-29T12:42:11.778195Z",
     "iopub.status.idle": "2025-04-29T12:42:11.785689Z",
     "shell.execute_reply": "2025-04-29T12:42:11.784845Z"
    },
    "papermill": {
     "duration": 0.02547,
     "end_time": "2025-04-29T12:42:11.787000",
     "exception": false,
     "start_time": "2025-04-29T12:42:11.761530",
     "status": "completed"
    },
    "tags": []
   },
   "outputs": [
    {
     "data": {
      "text/plain": [
       "ticket_letters\n",
       "0            665\n",
       "pc            60\n",
       "ca            41\n",
       "a5            21\n",
       "stono2        18\n",
       "sotonoq       15\n",
       "scparis       11\n",
       "wc            10\n",
       "a4             7\n",
       "soc            6\n",
       "fcc            5\n",
       "c              5\n",
       "sopp           3\n",
       "pp             3\n",
       "wep            3\n",
       "ppp            2\n",
       "scah           2\n",
       "sotono2        2\n",
       "swpp           2\n",
       "fc             1\n",
       "scahbasle      1\n",
       "as             1\n",
       "sp             1\n",
       "sc             1\n",
       "scow           1\n",
       "fa             1\n",
       "sop            1\n",
       "sca4           1\n",
       "casoton        1\n",
       "Name: count, dtype: int64"
      ]
     },
     "execution_count": 20,
     "metadata": {},
     "output_type": "execute_result"
    }
   ],
   "source": [
    "# View all rows in dataframe through scrolling.\n",
    "pd.set_option(\"display.max_rows\", None)\n",
    "train['ticket_letters'].value_counts()"
   ]
  },
  {
   "cell_type": "code",
   "execution_count": 21,
   "id": "586da340",
   "metadata": {
    "execution": {
     "iopub.execute_input": "2025-04-29T12:42:11.820306Z",
     "iopub.status.busy": "2025-04-29T12:42:11.820004Z",
     "iopub.status.idle": "2025-04-29T12:42:11.832968Z",
     "shell.execute_reply": "2025-04-29T12:42:11.832161Z"
    },
    "papermill": {
     "duration": 0.031186,
     "end_time": "2025-04-29T12:42:11.834399",
     "exception": false,
     "start_time": "2025-04-29T12:42:11.803213",
     "status": "completed"
    },
    "tags": []
   },
   "outputs": [
    {
     "data": {
      "text/html": [
       "<div>\n",
       "<style scoped>\n",
       "    .dataframe tbody tr th:only-of-type {\n",
       "        vertical-align: middle;\n",
       "    }\n",
       "\n",
       "    .dataframe tbody tr th {\n",
       "        vertical-align: top;\n",
       "    }\n",
       "\n",
       "    .dataframe thead th {\n",
       "        text-align: right;\n",
       "    }\n",
       "</style>\n",
       "<table border=\"1\" class=\"dataframe\">\n",
       "  <thead>\n",
       "    <tr style=\"text-align: right;\">\n",
       "      <th>numeric_ticket</th>\n",
       "      <th>0</th>\n",
       "      <th>1</th>\n",
       "    </tr>\n",
       "    <tr>\n",
       "      <th>Survived</th>\n",
       "      <th></th>\n",
       "      <th></th>\n",
       "    </tr>\n",
       "  </thead>\n",
       "  <tbody>\n",
       "    <tr>\n",
       "      <th>0</th>\n",
       "      <td>142</td>\n",
       "      <td>407</td>\n",
       "    </tr>\n",
       "    <tr>\n",
       "      <th>1</th>\n",
       "      <td>88</td>\n",
       "      <td>254</td>\n",
       "    </tr>\n",
       "  </tbody>\n",
       "</table>\n",
       "</div>"
      ],
      "text/plain": [
       "numeric_ticket    0    1\n",
       "Survived                \n",
       "0               142  407\n",
       "1                88  254"
      ]
     },
     "execution_count": 21,
     "metadata": {},
     "output_type": "execute_result"
    }
   ],
   "source": [
    "# Survival rate: numeric vs non-numeric ticket\n",
    "pd.pivot_table(train, index='Survived', columns='numeric_ticket', values='Ticket', aggfunc='count')"
   ]
  },
  {
   "cell_type": "code",
   "execution_count": 22,
   "id": "f3b8b0d2",
   "metadata": {
    "execution": {
     "iopub.execute_input": "2025-04-29T12:42:11.869185Z",
     "iopub.status.busy": "2025-04-29T12:42:11.868861Z",
     "iopub.status.idle": "2025-04-29T12:42:11.897342Z",
     "shell.execute_reply": "2025-04-29T12:42:11.896406Z"
    },
    "papermill": {
     "duration": 0.047435,
     "end_time": "2025-04-29T12:42:11.898699",
     "exception": false,
     "start_time": "2025-04-29T12:42:11.851264",
     "status": "completed"
    },
    "tags": []
   },
   "outputs": [
    {
     "name": "stderr",
     "output_type": "stream",
     "text": [
      "/usr/local/lib/python3.11/dist-packages/pandas/io/formats/format.py:1458: RuntimeWarning: invalid value encountered in greater\n",
      "  has_large_values = (abs_vals > 1e6).any()\n",
      "/usr/local/lib/python3.11/dist-packages/pandas/io/formats/format.py:1459: RuntimeWarning: invalid value encountered in less\n",
      "  has_small_values = ((abs_vals < 10 ** (-self.digits)) & (abs_vals > 0)).any()\n",
      "/usr/local/lib/python3.11/dist-packages/pandas/io/formats/format.py:1459: RuntimeWarning: invalid value encountered in greater\n",
      "  has_small_values = ((abs_vals < 10 ** (-self.digits)) & (abs_vals > 0)).any()\n",
      "/usr/local/lib/python3.11/dist-packages/pandas/io/formats/format.py:1458: RuntimeWarning: invalid value encountered in greater\n",
      "  has_large_values = (abs_vals > 1e6).any()\n",
      "/usr/local/lib/python3.11/dist-packages/pandas/io/formats/format.py:1459: RuntimeWarning: invalid value encountered in less\n",
      "  has_small_values = ((abs_vals < 10 ** (-self.digits)) & (abs_vals > 0)).any()\n",
      "/usr/local/lib/python3.11/dist-packages/pandas/io/formats/format.py:1459: RuntimeWarning: invalid value encountered in greater\n",
      "  has_small_values = ((abs_vals < 10 ** (-self.digits)) & (abs_vals > 0)).any()\n"
     ]
    },
    {
     "data": {
      "text/html": [
       "<div>\n",
       "<style scoped>\n",
       "    .dataframe tbody tr th:only-of-type {\n",
       "        vertical-align: middle;\n",
       "    }\n",
       "\n",
       "    .dataframe tbody tr th {\n",
       "        vertical-align: top;\n",
       "    }\n",
       "\n",
       "    .dataframe thead th {\n",
       "        text-align: right;\n",
       "    }\n",
       "</style>\n",
       "<table border=\"1\" class=\"dataframe\">\n",
       "  <thead>\n",
       "    <tr style=\"text-align: right;\">\n",
       "      <th>ticket_letters</th>\n",
       "      <th>0</th>\n",
       "      <th>a4</th>\n",
       "      <th>a5</th>\n",
       "      <th>as</th>\n",
       "      <th>c</th>\n",
       "      <th>ca</th>\n",
       "      <th>casoton</th>\n",
       "      <th>fa</th>\n",
       "      <th>fc</th>\n",
       "      <th>fcc</th>\n",
       "      <th>...</th>\n",
       "      <th>soc</th>\n",
       "      <th>sop</th>\n",
       "      <th>sopp</th>\n",
       "      <th>sotono2</th>\n",
       "      <th>sotonoq</th>\n",
       "      <th>sp</th>\n",
       "      <th>stono2</th>\n",
       "      <th>swpp</th>\n",
       "      <th>wc</th>\n",
       "      <th>wep</th>\n",
       "    </tr>\n",
       "    <tr>\n",
       "      <th>Survived</th>\n",
       "      <th></th>\n",
       "      <th></th>\n",
       "      <th></th>\n",
       "      <th></th>\n",
       "      <th></th>\n",
       "      <th></th>\n",
       "      <th></th>\n",
       "      <th></th>\n",
       "      <th></th>\n",
       "      <th></th>\n",
       "      <th></th>\n",
       "      <th></th>\n",
       "      <th></th>\n",
       "      <th></th>\n",
       "      <th></th>\n",
       "      <th></th>\n",
       "      <th></th>\n",
       "      <th></th>\n",
       "      <th></th>\n",
       "      <th></th>\n",
       "      <th></th>\n",
       "    </tr>\n",
       "  </thead>\n",
       "  <tbody>\n",
       "    <tr>\n",
       "      <th>0</th>\n",
       "      <td>410.0</td>\n",
       "      <td>7.0</td>\n",
       "      <td>19.0</td>\n",
       "      <td>1.0</td>\n",
       "      <td>3.0</td>\n",
       "      <td>27.0</td>\n",
       "      <td>1.0</td>\n",
       "      <td>1.0</td>\n",
       "      <td>1.0</td>\n",
       "      <td>1.0</td>\n",
       "      <td>...</td>\n",
       "      <td>5.0</td>\n",
       "      <td>1.0</td>\n",
       "      <td>3.0</td>\n",
       "      <td>2.0</td>\n",
       "      <td>13.0</td>\n",
       "      <td>1.0</td>\n",
       "      <td>10.0</td>\n",
       "      <td>NaN</td>\n",
       "      <td>9.0</td>\n",
       "      <td>2.0</td>\n",
       "    </tr>\n",
       "    <tr>\n",
       "      <th>1</th>\n",
       "      <td>255.0</td>\n",
       "      <td>NaN</td>\n",
       "      <td>2.0</td>\n",
       "      <td>NaN</td>\n",
       "      <td>2.0</td>\n",
       "      <td>14.0</td>\n",
       "      <td>NaN</td>\n",
       "      <td>NaN</td>\n",
       "      <td>NaN</td>\n",
       "      <td>4.0</td>\n",
       "      <td>...</td>\n",
       "      <td>1.0</td>\n",
       "      <td>NaN</td>\n",
       "      <td>NaN</td>\n",
       "      <td>NaN</td>\n",
       "      <td>2.0</td>\n",
       "      <td>NaN</td>\n",
       "      <td>8.0</td>\n",
       "      <td>2.0</td>\n",
       "      <td>1.0</td>\n",
       "      <td>1.0</td>\n",
       "    </tr>\n",
       "  </tbody>\n",
       "</table>\n",
       "<p>2 rows × 29 columns</p>\n",
       "</div>"
      ],
      "text/plain": [
       "ticket_letters      0   a4    a5   as    c    ca  casoton   fa   fc  fcc  ...  \\\n",
       "Survived                                                                  ...   \n",
       "0               410.0  7.0  19.0  1.0  3.0  27.0      1.0  1.0  1.0  1.0  ...   \n",
       "1               255.0  NaN   2.0  NaN  2.0  14.0      NaN  NaN  NaN  4.0  ...   \n",
       "\n",
       "ticket_letters  soc  sop  sopp  sotono2  sotonoq   sp  stono2  swpp   wc  wep  \n",
       "Survived                                                                       \n",
       "0               5.0  1.0   3.0      2.0     13.0  1.0    10.0   NaN  9.0  2.0  \n",
       "1               1.0  NaN   NaN      NaN      2.0  NaN     8.0   2.0  1.0  1.0  \n",
       "\n",
       "[2 rows x 29 columns]"
      ]
     },
     "execution_count": 22,
     "metadata": {},
     "output_type": "execute_result"
    }
   ],
   "source": [
    "# Survival rate: ticket prefixes\n",
    "pd.pivot_table(train, index='Survived', columns='ticket_letters', values='Ticket', aggfunc='count')"
   ]
  },
  {
   "cell_type": "code",
   "execution_count": 23,
   "id": "6d04d352",
   "metadata": {
    "execution": {
     "iopub.execute_input": "2025-04-29T12:42:11.932813Z",
     "iopub.status.busy": "2025-04-29T12:42:11.932522Z",
     "iopub.status.idle": "2025-04-29T12:42:11.938400Z",
     "shell.execute_reply": "2025-04-29T12:42:11.937561Z"
    },
    "papermill": {
     "duration": 0.024535,
     "end_time": "2025-04-29T12:42:11.939805",
     "exception": false,
     "start_time": "2025-04-29T12:42:11.915270",
     "status": "completed"
    },
    "tags": []
   },
   "outputs": [],
   "source": [
    "# Extract Title from Name (mr., ms., master. etc)\n",
    "train['name_title'] = train['Name'].apply(lambda x: x.split(',')[1].split('.')[0].strip())"
   ]
  },
  {
   "cell_type": "code",
   "execution_count": 24,
   "id": "c3a2950f",
   "metadata": {
    "execution": {
     "iopub.execute_input": "2025-04-29T12:42:11.974023Z",
     "iopub.status.busy": "2025-04-29T12:42:11.973761Z",
     "iopub.status.idle": "2025-04-29T12:42:11.980730Z",
     "shell.execute_reply": "2025-04-29T12:42:11.979980Z"
    },
    "papermill": {
     "duration": 0.025369,
     "end_time": "2025-04-29T12:42:11.981928",
     "exception": false,
     "start_time": "2025-04-29T12:42:11.956559",
     "status": "completed"
    },
    "tags": []
   },
   "outputs": [
    {
     "data": {
      "text/plain": [
       "name_title\n",
       "Mr              517\n",
       "Miss            182\n",
       "Mrs             125\n",
       "Master           40\n",
       "Dr                7\n",
       "Rev               6\n",
       "Mlle              2\n",
       "Major             2\n",
       "Col               2\n",
       "the Countess      1\n",
       "Capt              1\n",
       "Ms                1\n",
       "Sir               1\n",
       "Lady              1\n",
       "Mme               1\n",
       "Don               1\n",
       "Jonkheer          1\n",
       "Name: count, dtype: int64"
      ]
     },
     "execution_count": 24,
     "metadata": {},
     "output_type": "execute_result"
    }
   ],
   "source": [
    "train['name_title'].value_counts()"
   ]
  },
  {
   "cell_type": "code",
   "execution_count": 25,
   "id": "9055525d",
   "metadata": {
    "execution": {
     "iopub.execute_input": "2025-04-29T12:42:12.017113Z",
     "iopub.status.busy": "2025-04-29T12:42:12.016120Z",
     "iopub.status.idle": "2025-04-29T12:42:12.028845Z",
     "shell.execute_reply": "2025-04-29T12:42:12.028104Z"
    },
    "papermill": {
     "duration": 0.031564,
     "end_time": "2025-04-29T12:42:12.030178",
     "exception": false,
     "start_time": "2025-04-29T12:42:11.998614",
     "status": "completed"
    },
    "tags": []
   },
   "outputs": [],
   "source": [
    "# Apply feature engineering to all_data\n",
    "all_data['cabin_multiple'] = all_data['Cabin'].apply(lambda x: 0 if pd.isna(x) else len(x.split(' ')))\n",
    "all_data['cabin_adv'] = all_data['Cabin'].apply(lambda x: str(x)[0])\n",
    "all_data['numeric_ticket'] = all_data['Ticket'].apply(lambda x: 1 if x.isnumeric() else 0)\n",
    "all_data['ticket_letters'] = all_data['Ticket'].apply(lambda x: ''.join(x.split(' ')[:-1]).replace('.', '').replace('/', '').lower() if len(x.split(' ')[:-1]) > 0 else 0)\n",
    "all_data['name_title'] = all_data['Name'].apply(lambda x: x.split(',')[1].split('.')[0].strip())"
   ]
  },
  {
   "cell_type": "code",
   "execution_count": 26,
   "id": "d0f3ac28",
   "metadata": {
    "execution": {
     "iopub.execute_input": "2025-04-29T12:42:12.064539Z",
     "iopub.status.busy": "2025-04-29T12:42:12.064209Z",
     "iopub.status.idle": "2025-04-29T12:42:12.072700Z",
     "shell.execute_reply": "2025-04-29T12:42:12.072000Z"
    },
    "papermill": {
     "duration": 0.027202,
     "end_time": "2025-04-29T12:42:12.074009",
     "exception": false,
     "start_time": "2025-04-29T12:42:12.046807",
     "status": "completed"
    },
    "tags": []
   },
   "outputs": [],
   "source": [
    "# Impute missing values\n",
    "all_data['Age'] = all_data['Age'].fillna(train['Age'].median())\n",
    "all_data['Fare'] = all_data['Fare'].fillna(train['Fare'].median())\n",
    "all_data.dropna(subset=['Embarked'], inplace=True)"
   ]
  },
  {
   "cell_type": "code",
   "execution_count": 27,
   "id": "74583766",
   "metadata": {
    "execution": {
     "iopub.execute_input": "2025-04-29T12:42:12.109463Z",
     "iopub.status.busy": "2025-04-29T12:42:12.109166Z",
     "iopub.status.idle": "2025-04-29T12:42:12.117285Z",
     "shell.execute_reply": "2025-04-29T12:42:12.116384Z"
    },
    "papermill": {
     "duration": 0.02759,
     "end_time": "2025-04-29T12:42:12.118880",
     "exception": false,
     "start_time": "2025-04-29T12:42:12.091290",
     "status": "completed"
    },
    "tags": []
   },
   "outputs": [],
   "source": [
    "# Normalizations\n",
    "all_data['norm_sibsp'] = np.log(all_data['SibSp'] + 1)\n",
    "all_data['norm_fare'] = np.log(all_data['Fare'] + 1)"
   ]
  },
  {
   "cell_type": "code",
   "execution_count": 28,
   "id": "bbb2eb13",
   "metadata": {
    "execution": {
     "iopub.execute_input": "2025-04-29T12:42:12.153206Z",
     "iopub.status.busy": "2025-04-29T12:42:12.152587Z",
     "iopub.status.idle": "2025-04-29T12:42:12.164185Z",
     "shell.execute_reply": "2025-04-29T12:42:12.163359Z"
    },
    "papermill": {
     "duration": 0.030524,
     "end_time": "2025-04-29T12:42:12.165907",
     "exception": false,
     "start_time": "2025-04-29T12:42:12.135383",
     "status": "completed"
    },
    "tags": []
   },
   "outputs": [],
   "source": [
    "# Prepare dummy variables\n",
    "all_data['Pclass'] = all_data['Pclass'].astype(str)\n",
    "all_dummies = pd.get_dummies(all_data[['Pclass', 'Sex', 'Age', 'SibSp', 'Parch', 'norm_fare', 'Embarked', 'cabin_adv', 'cabin_multiple', 'numeric_ticket', 'name_title', 'train_test']])"
   ]
  },
  {
   "cell_type": "code",
   "execution_count": 29,
   "id": "16fed575",
   "metadata": {
    "execution": {
     "iopub.execute_input": "2025-04-29T12:42:12.201221Z",
     "iopub.status.busy": "2025-04-29T12:42:12.200946Z",
     "iopub.status.idle": "2025-04-29T12:42:12.214162Z",
     "shell.execute_reply": "2025-04-29T12:42:12.213263Z"
    },
    "papermill": {
     "duration": 0.032832,
     "end_time": "2025-04-29T12:42:12.215767",
     "exception": false,
     "start_time": "2025-04-29T12:42:12.182935",
     "status": "completed"
    },
    "tags": []
   },
   "outputs": [],
   "source": [
    "# Re-split into train and test\n",
    "X_train = all_dummies[all_dummies['train_test'] == 1].drop(['train_test'], axis=1)\n",
    "X_test = all_dummies[all_dummies['train_test'] == 0].drop(['train_test'], axis=1)\n",
    "y_train = all_data[all_data['train_test'] == 1]['Survived']"
   ]
  },
  {
   "cell_type": "markdown",
   "id": "4ed577db",
   "metadata": {
    "papermill": {
     "duration": 0.016262,
     "end_time": "2025-04-29T12:42:12.249050",
     "exception": false,
     "start_time": "2025-04-29T12:42:12.232788",
     "status": "completed"
    },
    "tags": []
   },
   "source": [
    "# Scaling Data"
   ]
  },
  {
   "cell_type": "code",
   "execution_count": 30,
   "id": "e4fae7cd",
   "metadata": {
    "execution": {
     "iopub.execute_input": "2025-04-29T12:42:12.283645Z",
     "iopub.status.busy": "2025-04-29T12:42:12.282922Z",
     "iopub.status.idle": "2025-04-29T12:42:12.454234Z",
     "shell.execute_reply": "2025-04-29T12:42:12.453333Z"
    },
    "papermill": {
     "duration": 0.190223,
     "end_time": "2025-04-29T12:42:12.455785",
     "exception": false,
     "start_time": "2025-04-29T12:42:12.265562",
     "status": "completed"
    },
    "tags": []
   },
   "outputs": [],
   "source": [
    "from sklearn.preprocessing import StandardScaler\n",
    "\n",
    "scale = StandardScaler()\n",
    "all_dummies_scaled = all_dummies.copy()\n",
    "all_dummies_scaled[['Age', 'SibSp', 'Parch', 'norm_fare']] = scale.fit_transform(all_dummies_scaled[['Age', 'SibSp', 'Parch', 'norm_fare']])\n",
    "\n",
    "X_train_scaled = all_dummies_scaled[all_dummies_scaled['train_test'] == 1].drop(['train_test'], axis=1)\n",
    "X_test_scaled = all_dummies_scaled[all_dummies_scaled['train_test'] == 0].drop(['train_test'], axis=1)"
   ]
  },
  {
   "cell_type": "markdown",
   "id": "47df1648",
   "metadata": {
    "papermill": {
     "duration": 0.016647,
     "end_time": "2025-04-29T12:42:12.488926",
     "exception": false,
     "start_time": "2025-04-29T12:42:12.472279",
     "status": "completed"
    },
    "tags": []
   },
   "source": [
    " # Baseline Models"
   ]
  },
  {
   "cell_type": "code",
   "execution_count": 31,
   "id": "5baebbba",
   "metadata": {
    "execution": {
     "iopub.execute_input": "2025-04-29T12:42:12.523474Z",
     "iopub.status.busy": "2025-04-29T12:42:12.523123Z",
     "iopub.status.idle": "2025-04-29T12:42:13.279999Z",
     "shell.execute_reply": "2025-04-29T12:42:13.279277Z"
    },
    "papermill": {
     "duration": 0.775843,
     "end_time": "2025-04-29T12:42:13.281543",
     "exception": false,
     "start_time": "2025-04-29T12:42:12.505700",
     "status": "completed"
    },
    "tags": []
   },
   "outputs": [],
   "source": [
    "from sklearn.model_selection import cross_val_score\n",
    "from sklearn.naive_bayes import GaussianNB\n",
    "from sklearn.linear_model import LogisticRegression\n",
    "from sklearn import tree\n",
    "from sklearn.neighbors import KNeighborsClassifier\n",
    "from sklearn.ensemble import RandomForestClassifier\n",
    "from sklearn.svm import SVC\n",
    "from xgboost import XGBClassifier"
   ]
  },
  {
   "cell_type": "code",
   "execution_count": 32,
   "id": "e209b982",
   "metadata": {
    "execution": {
     "iopub.execute_input": "2025-04-29T12:42:13.316397Z",
     "iopub.status.busy": "2025-04-29T12:42:13.316098Z",
     "iopub.status.idle": "2025-04-29T12:42:13.320565Z",
     "shell.execute_reply": "2025-04-29T12:42:13.319863Z"
    },
    "papermill": {
     "duration": 0.023731,
     "end_time": "2025-04-29T12:42:13.321972",
     "exception": false,
     "start_time": "2025-04-29T12:42:13.298241",
     "status": "completed"
    },
    "tags": []
   },
   "outputs": [],
   "source": [
    "def evaluate_model(model, X, y, name=\"Model\", scaled=True):\n",
    "    cv_scores = cross_val_score(model, X, y, cv=5)\n",
    "    scaled_text = \" (scaled)\" if scaled else \"\"\n",
    "    print(f\"{name} CV Mean Accuracy{scaled_text}: {cv_scores.mean():.4f}\")"
   ]
  },
  {
   "cell_type": "code",
   "execution_count": 33,
   "id": "587471ab",
   "metadata": {
    "execution": {
     "iopub.execute_input": "2025-04-29T12:42:13.356786Z",
     "iopub.status.busy": "2025-04-29T12:42:13.356123Z",
     "iopub.status.idle": "2025-04-29T12:42:13.360894Z",
     "shell.execute_reply": "2025-04-29T12:42:13.360203Z"
    },
    "papermill": {
     "duration": 0.023358,
     "end_time": "2025-04-29T12:42:13.362170",
     "exception": false,
     "start_time": "2025-04-29T12:42:13.338812",
     "status": "completed"
    },
    "tags": []
   },
   "outputs": [],
   "source": [
    "models = {\n",
    "    \"Naive Bayes\": GaussianNB(),\n",
    "    \"Logistic Regression\": LogisticRegression(max_iter=2000),\n",
    "    \"Decision Tree\": tree.DecisionTreeClassifier(random_state=1),\n",
    "    \"KNN\": KNeighborsClassifier(),\n",
    "    \"Random Forest\": RandomForestClassifier(random_state=1),\n",
    "    \"SVC\": SVC(probability=True),\n",
    "    \"XGBoost\": XGBClassifier(random_state=1)\n",
    "}"
   ]
  },
  {
   "cell_type": "code",
   "execution_count": 34,
   "id": "c7f77e59",
   "metadata": {
    "execution": {
     "iopub.execute_input": "2025-04-29T12:42:13.396964Z",
     "iopub.status.busy": "2025-04-29T12:42:13.396427Z",
     "iopub.status.idle": "2025-04-29T12:42:26.487862Z",
     "shell.execute_reply": "2025-04-29T12:42:26.487073Z"
    },
    "papermill": {
     "duration": 13.11082,
     "end_time": "2025-04-29T12:42:26.489752",
     "exception": false,
     "start_time": "2025-04-29T12:42:13.378932",
     "status": "completed"
    },
    "tags": []
   },
   "outputs": [
    {
     "name": "stdout",
     "output_type": "stream",
     "text": [
      "Naive Bayes CV Mean Accuracy: 0.7222\n",
      "Naive Bayes CV Mean Accuracy (scaled): 0.7255\n",
      "Logistic Regression CV Mean Accuracy: 0.8223\n",
      "Logistic Regression CV Mean Accuracy (scaled): 0.8223\n",
      "Decision Tree CV Mean Accuracy: 0.7773\n",
      "Decision Tree CV Mean Accuracy (scaled): 0.7773\n",
      "KNN CV Mean Accuracy: 0.8144\n",
      "KNN CV Mean Accuracy (scaled): 0.8099\n",
      "Random Forest CV Mean Accuracy: 0.8009\n",
      "Random Forest CV Mean Accuracy (scaled): 0.8021\n",
      "SVC CV Mean Accuracy: 0.8336\n",
      "SVC CV Mean Accuracy (scaled): 0.7267\n",
      "XGBoost CV Mean Accuracy: 0.8110\n",
      "XGBoost CV Mean Accuracy (scaled): 0.8110\n"
     ]
    }
   ],
   "source": [
    "for name, model in models.items():\n",
    "    evaluate_model(model, X_train_scaled, y_train, name, False)\n",
    "    evaluate_model(model, X_train, y_train, name, True)"
   ]
  },
  {
   "cell_type": "markdown",
   "id": "679a273a",
   "metadata": {
    "papermill": {
     "duration": 0.016856,
     "end_time": "2025-04-29T12:42:26.524745",
     "exception": false,
     "start_time": "2025-04-29T12:42:26.507889",
     "status": "completed"
    },
    "tags": []
   },
   "source": [
    "# Voting Classifier"
   ]
  },
  {
   "cell_type": "code",
   "execution_count": 35,
   "id": "86c55df0",
   "metadata": {
    "execution": {
     "iopub.execute_input": "2025-04-29T12:42:26.561021Z",
     "iopub.status.busy": "2025-04-29T12:42:26.560113Z",
     "iopub.status.idle": "2025-04-29T12:42:40.545670Z",
     "shell.execute_reply": "2025-04-29T12:42:40.544956Z"
    },
    "papermill": {
     "duration": 14.005439,
     "end_time": "2025-04-29T12:42:40.547371",
     "exception": false,
     "start_time": "2025-04-29T12:42:26.541932",
     "status": "completed"
    },
    "tags": []
   },
   "outputs": [
    {
     "name": "stdout",
     "output_type": "stream",
     "text": [
      "Voting Classifier CV Mean Accuracy: 0.8280\n",
      "Voting Classifier CV Mean Accuracy (scaled): 0.8280\n"
     ]
    }
   ],
   "source": [
    "# A Voting Classifier combines predictions from multiple models.\n",
    "# \n",
    "# - \"Hard\" voting: Each model votes for a class (\"yes\" or \"no\"), and the final prediction is based on majority vote.\n",
    "#   (Tip: Use an odd number of models to reduce the chance of a tie.)\n",
    "#\n",
    "# - \"Soft\" voting: Each model provides a probability (confidence) for each class.\n",
    "#   The final prediction is based on the average probabilities — if the average confidence for class 1 exceeds 50%, the output is 1.\n",
    "\n",
    "from sklearn.ensemble import VotingClassifier\n",
    "\n",
    "voting_clf = VotingClassifier(\n",
    "    estimators=[(name.lower().replace(' ', '_'), model) for name, model in models.items()],\n",
    "    voting='soft'\n",
    ")\n",
    "\n",
    "evaluate_model(voting_clf, X_train_scaled, y_train, \"Voting Classifier\", False)\n",
    "evaluate_model(voting_clf, X_train, y_train, \"Voting Classifier\", True)"
   ]
  },
  {
   "cell_type": "code",
   "execution_count": 36,
   "id": "917e6829",
   "metadata": {
    "execution": {
     "iopub.execute_input": "2025-04-29T12:42:40.583468Z",
     "iopub.status.busy": "2025-04-29T12:42:40.582727Z",
     "iopub.status.idle": "2025-04-29T12:42:41.477250Z",
     "shell.execute_reply": "2025-04-29T12:42:41.476476Z"
    },
    "papermill": {
     "duration": 0.914118,
     "end_time": "2025-04-29T12:42:41.478824",
     "exception": false,
     "start_time": "2025-04-29T12:42:40.564706",
     "status": "completed"
    },
    "tags": []
   },
   "outputs": [],
   "source": [
    "voting_clf.fit(X_train_scaled, y_train)\n",
    "y_hat_base_vc = voting_clf.predict(X_test_scaled).astype(int)\n",
    "\n",
    "submission = pd.DataFrame({\n",
    "    'PassengerId': test['PassengerId'],\n",
    "    'Survived': y_hat_base_vc\n",
    "})\n",
    "submission.to_csv('base_submission.csv', index=False)"
   ]
  },
  {
   "cell_type": "markdown",
   "id": "2a588df5",
   "metadata": {
    "papermill": {
     "duration": 0.017381,
     "end_time": "2025-04-29T12:42:41.513704",
     "exception": false,
     "start_time": "2025-04-29T12:42:41.496323",
     "status": "completed"
    },
    "tags": []
   },
   "source": [
    "# Hyperparameter Tuning"
   ]
  },
  {
   "cell_type": "code",
   "execution_count": 37,
   "id": "25ecc11a",
   "metadata": {
    "execution": {
     "iopub.execute_input": "2025-04-29T12:42:41.549447Z",
     "iopub.status.busy": "2025-04-29T12:42:41.548740Z",
     "iopub.status.idle": "2025-04-29T12:42:41.552771Z",
     "shell.execute_reply": "2025-04-29T12:42:41.552110Z"
    },
    "papermill": {
     "duration": 0.023275,
     "end_time": "2025-04-29T12:42:41.554058",
     "exception": false,
     "start_time": "2025-04-29T12:42:41.530783",
     "status": "completed"
    },
    "tags": []
   },
   "outputs": [],
   "source": [
    "from sklearn.model_selection import GridSearchCV \n",
    "from sklearn.model_selection import RandomizedSearchCV \n",
    "from scipy.stats import uniform, randint"
   ]
  },
  {
   "cell_type": "code",
   "execution_count": 38,
   "id": "c2e17df1",
   "metadata": {
    "execution": {
     "iopub.execute_input": "2025-04-29T12:42:41.589673Z",
     "iopub.status.busy": "2025-04-29T12:42:41.589352Z",
     "iopub.status.idle": "2025-04-29T12:42:41.593813Z",
     "shell.execute_reply": "2025-04-29T12:42:41.592956Z"
    },
    "papermill": {
     "duration": 0.023726,
     "end_time": "2025-04-29T12:42:41.595206",
     "exception": false,
     "start_time": "2025-04-29T12:42:41.571480",
     "status": "completed"
    },
    "tags": []
   },
   "outputs": [],
   "source": [
    "# Helper function for reporting\n",
    "def clf_performance(classifier, model_name):\n",
    "    print(model_name)\n",
    "    print(f'Best Score: {classifier.best_score_:.4f}')\n",
    "    print(f'Best Parameters: {classifier.best_params_}')"
   ]
  },
  {
   "cell_type": "code",
   "execution_count": 39,
   "id": "7c44d0a6",
   "metadata": {
    "execution": {
     "iopub.execute_input": "2025-04-29T12:42:41.630805Z",
     "iopub.status.busy": "2025-04-29T12:42:41.630527Z",
     "iopub.status.idle": "2025-04-29T12:42:45.476458Z",
     "shell.execute_reply": "2025-04-29T12:42:45.475270Z"
    },
    "papermill": {
     "duration": 3.865393,
     "end_time": "2025-04-29T12:42:45.477882",
     "exception": false,
     "start_time": "2025-04-29T12:42:41.612489",
     "status": "completed"
    },
    "tags": []
   },
   "outputs": [
    {
     "name": "stdout",
     "output_type": "stream",
     "text": [
      "Fitting 5 folds for each of 40 candidates, totalling 200 fits\n",
      "Logistic Regression\n",
      "Best Score: 0.8279\n",
      "Best Parameters: {'C': 1.623776739188721, 'max_iter': 2000, 'penalty': 'l1', 'solver': 'liblinear'}\n"
     ]
    }
   ],
   "source": [
    "# Logistic Regression tuning\n",
    "param_grid = {\n",
    "    'max_iter': [2000],\n",
    "    'penalty': ['l1', 'l2'],\n",
    "    'C': np.logspace(-4, 4, 20),\n",
    "    'solver': ['liblinear']\n",
    "}\n",
    "\n",
    "clf_lr = GridSearchCV(LogisticRegression(), param_grid, cv=5, verbose=True, n_jobs=-1)\n",
    "best_clf_lr = clf_lr.fit(X_train_scaled, y_train)\n",
    "clf_performance(best_clf_lr, 'Logistic Regression')"
   ]
  },
  {
   "cell_type": "code",
   "execution_count": 40,
   "id": "3563bafc",
   "metadata": {
    "execution": {
     "iopub.execute_input": "2025-04-29T12:42:45.515129Z",
     "iopub.status.busy": "2025-04-29T12:42:45.514800Z",
     "iopub.status.idle": "2025-04-29T12:42:47.165027Z",
     "shell.execute_reply": "2025-04-29T12:42:47.164000Z"
    },
    "papermill": {
     "duration": 1.671092,
     "end_time": "2025-04-29T12:42:47.166542",
     "exception": false,
     "start_time": "2025-04-29T12:42:45.495450",
     "status": "completed"
    },
    "tags": []
   },
   "outputs": [
    {
     "name": "stdout",
     "output_type": "stream",
     "text": [
      "Fitting 5 folds for each of 48 candidates, totalling 240 fits\n",
      "KNN\n",
      "Best Score: 0.8291\n",
      "Best Parameters: {'algorithm': 'ball_tree', 'n_neighbors': 7, 'p': 2, 'weights': 'uniform'}\n"
     ]
    }
   ],
   "source": [
    "# KNN tuning\n",
    "param_grid = {\n",
    "    'n_neighbors': [3, 5, 7, 9],\n",
    "    'weights': ['uniform', 'distance'],\n",
    "    'algorithm': ['auto', 'ball_tree', 'kd_tree'],\n",
    "    'p': [1, 2]\n",
    "}\n",
    "clf_knn = GridSearchCV(KNeighborsClassifier(), param_grid, cv=5, verbose=True, n_jobs=-1)\n",
    "best_clf_knn = clf_knn.fit(X_train_scaled, y_train)\n",
    "clf_performance(best_clf_knn, 'KNN')\n"
   ]
  },
  {
   "cell_type": "code",
   "execution_count": 41,
   "id": "276ce277",
   "metadata": {
    "execution": {
     "iopub.execute_input": "2025-04-29T12:42:47.202526Z",
     "iopub.status.busy": "2025-04-29T12:42:47.202188Z",
     "iopub.status.idle": "2025-04-29T12:43:02.673323Z",
     "shell.execute_reply": "2025-04-29T12:43:02.672199Z"
    },
    "papermill": {
     "duration": 15.490801,
     "end_time": "2025-04-29T12:43:02.674836",
     "exception": false,
     "start_time": "2025-04-29T12:42:47.184035",
     "status": "completed"
    },
    "tags": []
   },
   "outputs": [
    {
     "name": "stdout",
     "output_type": "stream",
     "text": [
      "Fitting 3 folds for each of 30 candidates, totalling 90 fits\n",
      "SVC (Randomized)\n",
      "Best Score: 0.8268\n",
      "Best Parameters: {'C': 2.1584494295802448, 'degree': 3, 'kernel': 'poly'}\n"
     ]
    }
   ],
   "source": [
    "# SVC tuning\n",
    "# Define parameter distributions (wider ranges, but sampled randomly)\n",
    "param_distributions = [\n",
    "    {\n",
    "        'kernel': ['rbf'],\n",
    "        'gamma': uniform(0.1, 5),  # Uniform sampling between 0.1 and 5\n",
    "        'C': uniform(0.1, 100)     # Uniform sampling between 0.1 and 100\n",
    "    },\n",
    "    {\n",
    "        'kernel': ['linear'],\n",
    "        'C': uniform(0.1, 100)\n",
    "    },\n",
    "    {\n",
    "        'kernel': ['poly'],\n",
    "        'degree': randint(2, 4),   # Only degree 2 or 3\n",
    "        'C': uniform(0.1, 100)\n",
    "    }\n",
    "]\n",
    "\n",
    "# Randomized Search instead of Grid Search\n",
    "clf_svc = RandomizedSearchCV(\n",
    "    SVC(probability=True, random_state=42),\n",
    "    param_distributions,\n",
    "    n_iter=30,              # Try 30 random combinations\n",
    "    cv=3,                   # Use 3-fold CV to speed up\n",
    "    verbose=2,\n",
    "    n_jobs=-1,\n",
    "    random_state=42\n",
    ")\n",
    "\n",
    "best_clf_svc = clf_svc.fit(X_train_scaled, y_train)\n",
    "clf_performance(best_clf_svc, 'SVC (Randomized)')"
   ]
  },
  {
   "cell_type": "code",
   "execution_count": 42,
   "id": "55c43290",
   "metadata": {
    "execution": {
     "iopub.execute_input": "2025-04-29T12:43:02.711138Z",
     "iopub.status.busy": "2025-04-29T12:43:02.710820Z",
     "iopub.status.idle": "2025-04-29T12:43:02.715239Z",
     "shell.execute_reply": "2025-04-29T12:43:02.714348Z"
    },
    "papermill": {
     "duration": 0.024444,
     "end_time": "2025-04-29T12:43:02.716748",
     "exception": false,
     "start_time": "2025-04-29T12:43:02.692304",
     "status": "completed"
    },
    "tags": []
   },
   "outputs": [],
   "source": [
    "# Due to the large feature space, I first used a randomized search to quickly explore a wide range of hyperparameters.\n",
    "# After identifying a promising set of parameters, I performed a more focused, granular search to fine-tune the model.\n",
    "\n",
    "# rf = RandomForestClassifier(random_state = 1)\n",
    "# param_grid =  {'n_estimators': [100,500,1000], \n",
    "#                                   'bootstrap': [True,False],\n",
    "#                                   'max_depth': [3,5,10,20,50,75,100,None],\n",
    "#                                   'max_features': ['auto','sqrt'],\n",
    "#                                   'min_samples_leaf': [1,2,4,10],\n",
    "#                                   'min_samples_split': [2,5,10]}\n",
    "                                  \n",
    "# clf_rf_rnd = RandomizedSearchCV(rf, param_distributions = param_grid, n_iter = 100, cv = 5, verbose = True, n_jobs = -1)\n",
    "# best_clf_rf_rnd = clf_rf_rnd.fit(X_train_scaled,y_train)\n",
    "# clf_performance(best_clf_rf_rnd,'Random Forest')"
   ]
  },
  {
   "cell_type": "code",
   "execution_count": 43,
   "id": "f8da420f",
   "metadata": {
    "execution": {
     "iopub.execute_input": "2025-04-29T12:43:02.757923Z",
     "iopub.status.busy": "2025-04-29T12:43:02.757399Z",
     "iopub.status.idle": "2025-04-29T12:48:50.859377Z",
     "shell.execute_reply": "2025-04-29T12:48:50.858460Z"
    },
    "papermill": {
     "duration": 348.144208,
     "end_time": "2025-04-29T12:48:50.878960",
     "exception": false,
     "start_time": "2025-04-29T12:43:02.734752",
     "status": "completed"
    },
    "tags": []
   },
   "outputs": [
    {
     "name": "stdout",
     "output_type": "stream",
     "text": [
      "Fitting 5 folds for each of 192 candidates, totalling 960 fits\n",
      "Random Forest\n",
      "Best Score: 0.8358\n",
      "Best Parameters: {'bootstrap': True, 'criterion': 'gini', 'max_depth': 15, 'max_features': 10, 'min_samples_leaf': 3, 'min_samples_split': 2, 'n_estimators': 550}\n"
     ]
    }
   ],
   "source": [
    "# Random Forest fine-tuning\n",
    "param_grid = {\n",
    "    'n_estimators': [400, 450, 500, 550],\n",
    "    'criterion': ['gini', 'entropy'],\n",
    "    'bootstrap': [True],\n",
    "    'max_depth': [15, 20, 25],\n",
    "    'max_features': ['sqrt', 10],\n",
    "    'min_samples_leaf': [2, 3],\n",
    "    'min_samples_split': [2, 3]\n",
    "}\n",
    "\n",
    "clf_rf = GridSearchCV(RandomForestClassifier(random_state=1), param_grid, cv=5, verbose=True, n_jobs=-1)\n",
    "best_clf_rf = clf_rf.fit(X_train_scaled, y_train)\n",
    "clf_performance(best_clf_rf, 'Random Forest')"
   ]
  },
  {
   "cell_type": "code",
   "execution_count": 44,
   "id": "f59259bf",
   "metadata": {
    "execution": {
     "iopub.execute_input": "2025-04-29T12:48:50.916550Z",
     "iopub.status.busy": "2025-04-29T12:48:50.915690Z",
     "iopub.status.idle": "2025-04-29T12:48:51.260948Z",
     "shell.execute_reply": "2025-04-29T12:48:51.259976Z"
    },
    "papermill": {
     "duration": 0.366127,
     "end_time": "2025-04-29T12:48:51.263055",
     "exception": false,
     "start_time": "2025-04-29T12:48:50.896928",
     "status": "completed"
    },
    "tags": []
   },
   "outputs": [
    {
     "data": {
      "image/png": "[encoded data removed]",
      "text/plain": [
       "<Figure size 640x480 with 1 Axes>"
      ]
     },
     "metadata": {},
     "output_type": "display_data"
    }
   ],
   "source": [
    "# Feature importances\n",
    "best_rf = best_clf_rf.best_estimator_\n",
    "feat_importances = pd.Series(best_rf.feature_importances_, index=X_train_scaled.columns)\n",
    "feat_importances.nlargest(20).plot(kind='barh')\n",
    "plt.title('Top 20 Feature Importances - Random Forest') \n",
    "plt.show()"
   ]
  },
  {
   "cell_type": "code",
   "execution_count": 45,
   "id": "975b17dc",
   "metadata": {
    "execution": {
     "iopub.execute_input": "2025-04-29T12:48:51.302448Z",
     "iopub.status.busy": "2025-04-29T12:48:51.302133Z",
     "iopub.status.idle": "2025-04-29T12:48:51.306376Z",
     "shell.execute_reply": "2025-04-29T12:48:51.305642Z"
    },
    "papermill": {
     "duration": 0.025281,
     "end_time": "2025-04-29T12:48:51.307785",
     "exception": false,
     "start_time": "2025-04-29T12:48:51.282504",
     "status": "completed"
    },
    "tags": []
   },
   "outputs": [],
   "source": [
    "# Due to the large feature space, I first used a randomized search to quickly explore a wide range of hyperparameters.\n",
    "# After identifying a promising set of parameters, I performed a more focused, granular search to fine-tune the model.\n",
    "\n",
    "# xgb = XGBClassifier(random_state = 1)\n",
    "\n",
    "# param_grid = {\n",
    "#     'n_estimators': [20, 50, 100, 250, 500,1000],\n",
    "#     'colsample_bytree': [0.2, 0.5, 0.7, 0.8, 1],\n",
    "#     'max_depth': [2, 5, 10, 15, 20, 25, None],\n",
    "#     'reg_alpha': [0, 0.5, 1],\n",
    "#     'reg_lambda': [1, 1.5, 2],\n",
    "#     'subsample': [0.5,0.6,0.7, 0.8, 0.9],\n",
    "#     'learning_rate':[.01,0.1,0.2,0.3,0.5, 0.7, 0.9],\n",
    "#     'gamma':[0,.01,.1,1,10,100],\n",
    "#     'min_child_weight':[0,.01,0.1,1,10,100],\n",
    "#     'sampling_method': ['uniform', 'gradient_based']\n",
    "# }\n",
    "\n",
    "# clf_xgb_rnd = RandomizedSearchCV(xgb, param_distributions = param_grid, n_iter = 1000, cv = 5, verbose = True, n_jobs = -1)\n",
    "# best_clf_xgb_rnd = clf_xgb_rnd.fit(X_train_scaled,y_train)\n",
    "# clf_performance(best_clf_xgb_rnd,'XGB')"
   ]
  },
  {
   "cell_type": "code",
   "execution_count": 46,
   "id": "ac28e872",
   "metadata": {
    "execution": {
     "iopub.execute_input": "2025-04-29T12:48:51.345986Z",
     "iopub.status.busy": "2025-04-29T12:48:51.345708Z",
     "iopub.status.idle": "2025-04-29T12:53:45.818923Z",
     "shell.execute_reply": "2025-04-29T12:53:45.818016Z"
    },
    "papermill": {
     "duration": 294.512249,
     "end_time": "2025-04-29T12:53:45.838699",
     "exception": false,
     "start_time": "2025-04-29T12:48:51.326450",
     "status": "completed"
    },
    "tags": []
   },
   "outputs": [
    {
     "name": "stdout",
     "output_type": "stream",
     "text": [
      "Fitting 5 folds for each of 1024 candidates, totalling 5120 fits\n",
      "XGBoost\n",
      "Best Score: 0.8459\n",
      "Best Parameters: {'colsample_bytree': 0.5, 'learning_rate': 0.1, 'max_depth': 3, 'n_estimators': 250, 'subsample': 0.5}\n"
     ]
    }
   ],
   "source": [
    "xgb = XGBClassifier(random_state=1)\n",
    "\n",
    "param_grid = { \n",
    "    'n_estimators': [50, 100, 250, 500], \n",
    "    'colsample_bytree': [0.5, 0.7, 0.8, 1], \n",
    "    'max_depth': [3, 5, 7, 10], \n",
    "    'learning_rate': [0.01, 0.05, 0.1, 0.3], \n",
    "    'subsample': [0.5, 0.7, 0.8, 1] \n",
    "}\n",
    "\n",
    "clf_xgb = GridSearchCV(xgb, param_grid=param_grid, cv=5, verbose=True, n_jobs=-1) \n",
    "best_clf_xgb = clf_xgb.fit(X_train_scaled, y_train) \n",
    "clf_performance(best_clf_xgb, 'XGBoost')"
   ]
  },
  {
   "cell_type": "code",
   "execution_count": 47,
   "id": "ba5ee936",
   "metadata": {
    "execution": {
     "iopub.execute_input": "2025-04-29T12:53:45.877164Z",
     "iopub.status.busy": "2025-04-29T12:53:45.876868Z",
     "iopub.status.idle": "2025-04-29T12:53:46.235305Z",
     "shell.execute_reply": "2025-04-29T12:53:46.234488Z"
    },
    "papermill": {
     "duration": 0.379781,
     "end_time": "2025-04-29T12:53:46.237315",
     "exception": false,
     "start_time": "2025-04-29T12:53:45.857534",
     "status": "completed"
    },
    "tags": []
   },
   "outputs": [
    {
     "data": {
      "image/png": "[encoded data removed]",
      "text/plain": [
       "<Figure size 640x480 with 1 Axes>"
      ]
     },
     "metadata": {},
     "output_type": "display_data"
    }
   ],
   "source": [
    "# Feature importance for XGBoost\n",
    "best_xgb = best_clf_xgb.best_estimator_.fit(X_train_scaled, y_train) \n",
    "xgb_feat_importances = pd.Series(best_xgb.feature_importances_, index=X_train_scaled.columns) \n",
    "xgb_feat_importances.nlargest(20).plot(kind='barh') \n",
    "plt.title('Top 20 Feature Importances - XGBoost') \n",
    "plt.show()"
   ]
  },
  {
   "cell_type": "markdown",
   "id": "bbe2e228",
   "metadata": {
    "papermill": {
     "duration": 0.019198,
     "end_time": "2025-04-29T12:53:46.277004",
     "exception": false,
     "start_time": "2025-04-29T12:53:46.257806",
     "status": "completed"
    },
    "tags": []
   },
   "source": [
    "# Final Ensemble Model\n",
    "Now that we've tuned individual models, let's create an ensemble based on the best models."
   ]
  },
  {
   "cell_type": "code",
   "execution_count": 48,
   "id": "6196dec0",
   "metadata": {
    "execution": {
     "iopub.execute_input": "2025-04-29T12:53:46.317191Z",
     "iopub.status.busy": "2025-04-29T12:53:46.316291Z",
     "iopub.status.idle": "2025-04-29T12:54:08.799592Z",
     "shell.execute_reply": "2025-04-29T12:54:08.798741Z"
    },
    "papermill": {
     "duration": 22.504868,
     "end_time": "2025-04-29T12:54:08.800984",
     "exception": false,
     "start_time": "2025-04-29T12:53:46.296116",
     "status": "completed"
    },
    "tags": []
   },
   "outputs": [
    {
     "name": "stdout",
     "output_type": "stream",
     "text": [
      "Voting Classifier (Hard) CV Scores: [0.80337079 0.80898876 0.87078652 0.78089888 0.8700565 ]\n",
      "Voting Classifier (Hard) Mean CV Accuracy: 0.8268\n",
      "\n",
      "Voting Classifier (Soft) CV Scores: [0.80337079 0.81460674 0.84269663 0.80898876 0.86440678]\n",
      "Voting Classifier (Soft) Mean CV Accuracy: 0.8268\n",
      "\n",
      "Voting Classifier (Soft + LR) CV Scores: [0.82022472 0.81460674 0.83707865 0.80337079 0.88135593]\n",
      "Voting Classifier (Soft + LR) Mean CV Accuracy: 0.8313\n",
      "\n",
      "Voting Classifier (Soft + XGB + LR) CV Scores: [0.82022472 0.81460674 0.85393258 0.80898876 0.8700565 ]\n",
      "Voting Classifier (Soft + XGB + LR) Mean CV Accuracy: 0.8336\n",
      "\n"
     ]
    }
   ],
   "source": [
    "# Extract best estimators from grid search results\n",
    "best_estimators = {\n",
    "    'lr': best_clf_lr.best_estimator_,\n",
    "    'knn': best_clf_knn.best_estimator_,\n",
    "    'svc': best_clf_svc.best_estimator_,\n",
    "    'rf': best_clf_rf.best_estimator_,\n",
    "    'xgb': best_clf_xgb.best_estimator_\n",
    "}\n",
    "\n",
    "# Define different voting classifiers\n",
    "voting_clf_hard = VotingClassifier(\n",
    "    estimators=[('knn', best_estimators['knn']), ('rf', best_estimators['rf']), ('svc', best_estimators['svc'])],\n",
    "    voting='hard'\n",
    ")\n",
    "\n",
    "voting_clf_soft = VotingClassifier(\n",
    "    estimators=[('knn', best_estimators['knn']), ('rf', best_estimators['rf']), ('svc', best_estimators['svc'])],\n",
    "    voting='soft'\n",
    ")\n",
    "\n",
    "voting_clf_all = VotingClassifier(\n",
    "    estimators=[('knn', best_estimators['knn']), ('rf', best_estimators['rf']), \n",
    "                ('svc', best_estimators['svc']), ('lr', best_estimators['lr'])],\n",
    "    voting='soft'\n",
    ")\n",
    "\n",
    "voting_clf_xgb = VotingClassifier(\n",
    "    estimators=[('knn', best_estimators['knn']), ('rf', best_estimators['rf']), \n",
    "                ('svc', best_estimators['svc']), ('xgb', best_estimators['xgb']), ('lr', best_estimators['lr'])],\n",
    "    voting='soft'\n",
    ")\n",
    "\n",
    "# Evaluate classifiers\n",
    "for name, clf in {\n",
    "    'Voting Classifier (Hard)': voting_clf_hard,\n",
    "    'Voting Classifier (Soft)': voting_clf_soft,\n",
    "    'Voting Classifier (Soft + LR)': voting_clf_all,\n",
    "    'Voting Classifier (Soft + XGB + LR)': voting_clf_xgb\n",
    "}.items():\n",
    "    scores = cross_val_score(clf, X_train, y_train, cv=5)\n",
    "    print(f\"{name} CV Scores: {scores}\")\n",
    "    print(f\"{name} Mean CV Accuracy: {scores.mean():.4f}\\n\")"
   ]
  },
  {
   "cell_type": "code",
   "execution_count": 49,
   "id": "1c697cd8",
   "metadata": {
    "execution": {
     "iopub.execute_input": "2025-04-29T12:54:08.842430Z",
     "iopub.status.busy": "2025-04-29T12:54:08.841795Z",
     "iopub.status.idle": "2025-04-29T12:54:26.509873Z",
     "shell.execute_reply": "2025-04-29T12:54:26.508884Z"
    },
    "papermill": {
     "duration": 17.690092,
     "end_time": "2025-04-29T12:54:26.511283",
     "exception": false,
     "start_time": "2025-04-29T12:54:08.821191",
     "status": "completed"
    },
    "tags": []
   },
   "outputs": [
    {
     "name": "stdout",
     "output_type": "stream",
     "text": [
      "Fitting 5 folds for each of 7 candidates, totalling 35 fits\n",
      "Voting Classifier (Weighted)\n",
      "Best Score: 0.8347\n",
      "Best Parameters: {'weights': [2, 1, 1]}\n"
     ]
    }
   ],
   "source": [
    "# Soft voting allows weighting classifiers differently. \n",
    "# Perform grid search to find optimal weights (no new models trained here).\n",
    "weight_options = {'weights': [[1,1,1], [1,2,1], [1,1,2], [2,1,1], [2,2,1], [1,2,2], [2,1,2]]}\n",
    "\n",
    "vote_weight_search = GridSearchCV(\n",
    "    estimator=voting_clf_soft,\n",
    "    param_grid=weight_options,\n",
    "    cv=5,\n",
    "    verbose=2,\n",
    "    n_jobs=-1\n",
    ")\n",
    "\n",
    "best_weighted_clf = vote_weight_search.fit(X_train_scaled, y_train)\n",
    "clf_performance(best_weighted_clf, 'Voting Classifier (Weighted)')\n",
    "voting_clf_sub_predictions = best_weighted_clf.best_estimator_.predict(X_test_scaled)"
   ]
  },
  {
   "cell_type": "code",
   "execution_count": 50,
   "id": "3b806dd5",
   "metadata": {
    "execution": {
     "iopub.execute_input": "2025-04-29T12:54:26.553599Z",
     "iopub.status.busy": "2025-04-29T12:54:26.553170Z",
     "iopub.status.idle": "2025-04-29T12:54:32.655890Z",
     "shell.execute_reply": "2025-04-29T12:54:32.655100Z"
    },
    "papermill": {
     "duration": 6.125769,
     "end_time": "2025-04-29T12:54:32.657461",
     "exception": false,
     "start_time": "2025-04-29T12:54:26.531692",
     "status": "completed"
    },
    "tags": []
   },
   "outputs": [],
   "source": [
    "# Fit all voting classifiers and best random forest\n",
    "models_to_fit = [voting_clf_hard, voting_clf_soft, voting_clf_all, voting_clf_xgb, best_estimators['rf']]\n",
    "\n",
    "for model in models_to_fit:\n",
    "    model.fit(X_train_scaled, y_train)\n",
    "\n",
    "# Generate predictions\n",
    "y_hat = {\n",
    "    'vc_hard': voting_clf_hard.predict(X_test_scaled).astype(int),\n",
    "    'vc_soft': voting_clf_soft.predict(X_test_scaled).astype(int),\n",
    "    'vc_all': voting_clf_all.predict(X_test_scaled).astype(int),\n",
    "    'vc_xgb': voting_clf_xgb.predict(X_test_scaled).astype(int),\n",
    "    'rf': best_estimators['rf'].predict(X_test_scaled).astype(int)\n",
    "}"
   ]
  },
  {
   "cell_type": "code",
   "execution_count": 51,
   "id": "8d7c0f4f",
   "metadata": {
    "execution": {
     "iopub.execute_input": "2025-04-29T12:54:32.698304Z",
     "iopub.status.busy": "2025-04-29T12:54:32.697985Z",
     "iopub.status.idle": "2025-04-29T12:54:32.705598Z",
     "shell.execute_reply": "2025-04-29T12:54:32.704865Z"
    },
    "papermill": {
     "duration": 0.029763,
     "end_time": "2025-04-29T12:54:32.706918",
     "exception": false,
     "start_time": "2025-04-29T12:54:32.677155",
     "status": "completed"
    },
    "tags": []
   },
   "outputs": [],
   "source": [
    "# Prepare submission DataFrames\n",
    "submissions = {\n",
    "    'submission_rf': pd.DataFrame({'PassengerId': test.PassengerId, 'Survived': y_hat['rf']}),\n",
    "    'submission_vc_hard': pd.DataFrame({'PassengerId': test.PassengerId, 'Survived': y_hat['vc_hard']}),\n",
    "    'submission_vc_soft': pd.DataFrame({'PassengerId': test.PassengerId, 'Survived': y_hat['vc_soft']}),\n",
    "    'submission_vc_all': pd.DataFrame({'PassengerId': test.PassengerId, 'Survived': y_hat['vc_all']}),\n",
    "    'submission_vc_xgb': pd.DataFrame({'PassengerId': test.PassengerId, 'Survived': y_hat['vc_xgb']})\n",
    "}\n",
    "\n",
    "# Combined comparison DataFrame\n",
    "comparison = pd.DataFrame({\n",
    "    'PassengerId': test.PassengerId,\n",
    "    'Survived_vc_hard': y_hat['vc_hard'],\n",
    "    'Survived_rf': y_hat['rf'],\n",
    "    'Survived_vc_soft': y_hat['vc_soft'],\n",
    "    'Survived_vc_all': y_hat['vc_all'],\n",
    "    'Survived_vc_xgb': y_hat['vc_xgb']\n",
    "})\n"
   ]
  },
  {
   "cell_type": "code",
   "execution_count": 52,
   "id": "0462177a",
   "metadata": {
    "execution": {
     "iopub.execute_input": "2025-04-29T12:54:32.751991Z",
     "iopub.status.busy": "2025-04-29T12:54:32.751406Z",
     "iopub.status.idle": "2025-04-29T12:54:32.760702Z",
     "shell.execute_reply": "2025-04-29T12:54:32.759827Z"
    },
    "papermill": {
     "duration": 0.035557,
     "end_time": "2025-04-29T12:54:32.762334",
     "exception": false,
     "start_time": "2025-04-29T12:54:32.726777",
     "status": "completed"
    },
    "tags": []
   },
   "outputs": [],
   "source": [
    "# Compare predictions between models\n",
    "comparison['diff_rf_vs_vc_hard'] = (comparison['Survived_rf'] != comparison['Survived_vc_hard']).astype(int)\n",
    "comparison['diff_vc_soft_vs_hard'] = (comparison['Survived_vc_soft'] != comparison['Survived_vc_hard']).astype(int)\n",
    "comparison['diff_vc_all_vs_hard'] = (comparison['Survived_vc_all'] != comparison['Survived_vc_hard']).astype(int)"
   ]
  },
  {
   "cell_type": "code",
   "execution_count": 53,
   "id": "80ff6f13",
   "metadata": {
    "execution": {
     "iopub.execute_input": "2025-04-29T12:54:32.815920Z",
     "iopub.status.busy": "2025-04-29T12:54:32.815592Z",
     "iopub.status.idle": "2025-04-29T12:54:32.823756Z",
     "shell.execute_reply": "2025-04-29T12:54:32.822887Z"
    },
    "papermill": {
     "duration": 0.036247,
     "end_time": "2025-04-29T12:54:32.825143",
     "exception": false,
     "start_time": "2025-04-29T12:54:32.788896",
     "status": "completed"
    },
    "tags": []
   },
   "outputs": [
    {
     "data": {
      "text/plain": [
       "diff_vc_all_vs_hard\n",
       "0    411\n",
       "1      7\n",
       "Name: count, dtype: int64"
      ]
     },
     "execution_count": 53,
     "metadata": {},
     "output_type": "execute_result"
    }
   ],
   "source": [
    "# Show differences count\n",
    "comparison['diff_vc_all_vs_hard'].value_counts()"
   ]
  },
  {
   "cell_type": "code",
   "execution_count": 54,
   "id": "b85ab04e",
   "metadata": {
    "execution": {
     "iopub.execute_input": "2025-04-29T12:54:32.868017Z",
     "iopub.status.busy": "2025-04-29T12:54:32.867732Z",
     "iopub.status.idle": "2025-04-29T12:54:32.877866Z",
     "shell.execute_reply": "2025-04-29T12:54:32.877066Z"
    },
    "papermill": {
     "duration": 0.032362,
     "end_time": "2025-04-29T12:54:32.879378",
     "exception": false,
     "start_time": "2025-04-29T12:54:32.847016",
     "status": "completed"
    },
    "tags": []
   },
   "outputs": [],
   "source": [
    "# Save submissions\n",
    "for name, df in submissions.items():\n",
    "    df.to_csv(f'{name}.csv', index=False)"
   ]
  },
  {
   "cell_type": "markdown",
   "id": "632a66f5",
   "metadata": {
    "papermill": {
     "duration": 0.019667,
     "end_time": "2025-04-29T12:54:32.919604",
     "exception": false,
     "start_time": "2025-04-29T12:54:32.899937",
     "status": "completed"
    },
    "tags": []
   },
   "source": [
    "# Conclusion\n",
    "- Performed extensive EDA and feature engineering.\n",
    "- Created multiple models including Logistic Regression, KNN, SVC, Random Forest, XGBoost.\n",
    "- Tuned hyperparameters using GridSearchCV.\n",
    "- Built an ensemble soft-voting classifier combining the best models.\n",
    "- Generated final submission ready for Kaggle."
   ]
  }
 ],
 "metadata": {
  "kaggle": {
   "accelerator": "none",
   "dataSources": [
    {
     "datasetId": 7230892,
     "sourceId": 11528775,
     "sourceType": "datasetVersion"
    }
   ],
   "dockerImageVersionId": 31012,
   "isGpuEnabled": false,
   "isInternetEnabled": false,
   "language": "python",
   "sourceType": "notebook"
  },
  "kernelspec": {
   "display_name": "Python 3",
   "language": "python",
   "name": "python3"
  },
  "language_info": {
   "codemirror_mode": {
    "name": "ipython",
    "version": 3
   },
   "file_extension": ".py",
   "mimetype": "text/x-python",
   "name": "python",
   "nbconvert_exporter": "python",
   "pygments_lexer": "ipython3",
   "version": "3.11.11"
  },
  "papermill": {
   "default_parameters": {},
   "duration": 760.502727,
   "end_time": "2025-04-29T12:54:35.561605",
   "environment_variables": {},
   "exception": null,
   "input_path": "__notebook__.ipynb",
   "output_path": "__notebook__.ipynb",
   "parameters": {},
   "start_time": "2025-04-29T12:41:55.058878",
   "version": "2.6.0"
  }
 },
 "nbformat": 4,
 "nbformat_minor": 5
}
